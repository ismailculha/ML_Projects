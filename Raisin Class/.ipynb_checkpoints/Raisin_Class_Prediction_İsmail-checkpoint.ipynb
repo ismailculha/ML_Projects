{
 "cells": [
  {
   "cell_type": "markdown",
   "id": "eqVwSPRnHMul",
   "metadata": {
    "id": "eqVwSPRnHMul"
   },
   "source": [
    "___\n",
    "\n",
    "<p style=\"text-align: center;\"><img src=\"https://docs.google.com/uc?id=1lY0Uj5R04yMY3-ZppPWxqCr5pvBLYPnV\" class=\"img-fluid\" alt=\"CLRSWY\"></p>\n",
    "\n",
    "___"
   ]
  },
  {
   "cell_type": "markdown",
   "id": "6608d87a-1718-4198-aa94-5018bed4a106",
   "metadata": {
    "id": "6608d87a-1718-4198-aa94-5018bed4a106"
   },
   "source": [
    "# Raisin Class Prediction"
   ]
  },
  {
   "cell_type": "markdown",
   "id": "392a02f0-fdda-44ae-a0fc-97f3b03924a9",
   "metadata": {
    "id": "392a02f0-fdda-44ae-a0fc-97f3b03924a9"
   },
   "source": [
    "Data Set Information:\n",
    "\n",
    "Images of Kecimen and Besni raisin varieties grown in Turkey were obtained with CVS. A total of 900 raisin grains were used, including 450 pieces from both varieties. These images were subjected to various stages of pre-processing and 7 morphological features were extracted. These features have been classified using three different artificial intelligence techniques.\n",
    "\n",
    "\n",
    "Attribute Information:\n",
    "\n",
    "1. Area: Gives the number of pixels within the boundaries of the raisin.\n",
    "2. Perimeter: It measures the environment by calculating the distance between the boundaries of the raisin and the pixels around it.\n",
    "3. MajorAxisLength: Gives the length of the main axis, which is the longest line that can be drawn on the raisin.\n",
    "4. MinorAxisLength: Gives the length of the small axis, which is the shortest line that can be drawn on the raisin.\n",
    "5. Eccentricity: It gives a measure of the eccentricity of the ellipse, which has the same moments as raisins.\n",
    "6. ConvexArea: Gives the number of pixels of the smallest convex shell of the region formed by the raisin.\n",
    "7. Extent: Gives the ratio of the region formed by the raisin to the total pixels in the bounding box.\n",
    "8. Class: Kecimen and Besni raisin.\n",
    "\n",
    "https://archive.ics.uci.edu/ml/datasets/Raisin+Dataset"
   ]
  },
  {
   "cell_type": "markdown",
   "id": "9f64a47c-5aa7-4653-98ea-6c645df4572b",
   "metadata": {
    "id": "9f64a47c-5aa7-4653-98ea-6c645df4572b"
   },
   "source": [
    "# Import libraries"
   ]
  },
  {
   "cell_type": "code",
   "execution_count": 1,
   "id": "d2f67c2a-c903-4b6c-bcda-2d69e2619192",
   "metadata": {
    "id": "d2f67c2a-c903-4b6c-bcda-2d69e2619192",
    "outputId": "e843ea0c-6999-4ea4-a3cb-b373e9610eb2"
   },
   "outputs": [
    {
     "data": {
      "text/html": [
       "        <script type=\"text/javascript\">\n",
       "        window.PlotlyConfig = {MathJaxConfig: 'local'};\n",
       "        if (window.MathJax && window.MathJax.Hub && window.MathJax.Hub.Config) {window.MathJax.Hub.Config({SVG: {font: \"STIX-Web\"}});}\n",
       "        if (typeof require !== 'undefined') {\n",
       "        require.undef(\"plotly\");\n",
       "        requirejs.config({\n",
       "            paths: {\n",
       "                'plotly': ['https://cdn.plot.ly/plotly-2.12.1.min']\n",
       "            }\n",
       "        });\n",
       "        require(['plotly'], function(Plotly) {\n",
       "            window._Plotly = Plotly;\n",
       "        });\n",
       "        }\n",
       "        </script>\n",
       "        "
      ]
     },
     "metadata": {},
     "output_type": "display_data"
    },
    {
     "data": {
      "text/html": [
       "        <script type=\"text/javascript\">\n",
       "        window.PlotlyConfig = {MathJaxConfig: 'local'};\n",
       "        if (window.MathJax && window.MathJax.Hub && window.MathJax.Hub.Config) {window.MathJax.Hub.Config({SVG: {font: \"STIX-Web\"}});}\n",
       "        if (typeof require !== 'undefined') {\n",
       "        require.undef(\"plotly\");\n",
       "        requirejs.config({\n",
       "            paths: {\n",
       "                'plotly': ['https://cdn.plot.ly/plotly-2.12.1.min']\n",
       "            }\n",
       "        });\n",
       "        require(['plotly'], function(Plotly) {\n",
       "            window._Plotly = Plotly;\n",
       "        });\n",
       "        }\n",
       "        </script>\n",
       "        "
      ]
     },
     "metadata": {},
     "output_type": "display_data"
    }
   ],
   "source": [
    "# libraries for EDA\n",
    "import numpy as np\n",
    "import pandas as pd\n",
    "import matplotlib.pyplot as plt\n",
    "import seaborn as sns\n",
    "import plotly\n",
    "import plotly.express as px\n",
    "import cufflinks as cf\n",
    "#Enabling the offline mode for interactive plotting locally\n",
    "from plotly.offline import download_plotlyjs,init_notebook_mode,plot,iplot\n",
    "init_notebook_mode(connected=True)\n",
    "cf.go_offline()\n",
    "#To display the plots\n",
    "%matplotlib inline\n",
    "\n",
    "# sklearn library for machine learning algorithms, data preprocessing, and evaluation\n",
    "from sklearn.preprocessing import StandardScaler, MinMaxScaler, RobustScaler\n",
    "from sklearn.model_selection import train_test_split, GridSearchCV, cross_validate\n",
    "from sklearn.neighbors import KNeighborsClassifier\n",
    "from sklearn.linear_model import LogisticRegression\n",
    "from sklearn.metrics import classification_report, confusion_matrix, log_loss, recall_score, accuracy_score, precision_score, f1_score\n",
    "\n",
    "# yellowbrick library for visualizing the model performance\n",
    "from yellowbrick.classifier import ConfusionMatrix\n",
    "from yellowbrick.cluster import KElbowVisualizer \n",
    "\n",
    "from sklearn.pipeline import Pipeline\n",
    "# to get rid of the warnings\n",
    "import warnings\n",
    "warnings.filterwarnings(\"ignore\")\n",
    "warnings.warn(\"this will not show\")"
   ]
  },
  {
   "cell_type": "code",
   "execution_count": 2,
   "id": "ebd07ef4",
   "metadata": {},
   "outputs": [
    {
     "data": {
      "text/html": [
       "<div>\n",
       "<style scoped>\n",
       "    .dataframe tbody tr th:only-of-type {\n",
       "        vertical-align: middle;\n",
       "    }\n",
       "\n",
       "    .dataframe tbody tr th {\n",
       "        vertical-align: top;\n",
       "    }\n",
       "\n",
       "    .dataframe thead th {\n",
       "        text-align: right;\n",
       "    }\n",
       "</style>\n",
       "<table border=\"1\" class=\"dataframe\">\n",
       "  <thead>\n",
       "    <tr style=\"text-align: right;\">\n",
       "      <th></th>\n",
       "      <th>Area</th>\n",
       "      <th>MajorAxisLength</th>\n",
       "      <th>MinorAxisLength</th>\n",
       "      <th>Eccentricity</th>\n",
       "      <th>ConvexArea</th>\n",
       "      <th>Extent</th>\n",
       "      <th>Perimeter</th>\n",
       "      <th>Class</th>\n",
       "    </tr>\n",
       "  </thead>\n",
       "  <tbody>\n",
       "    <tr>\n",
       "      <th>0</th>\n",
       "      <td>87524</td>\n",
       "      <td>442.246011</td>\n",
       "      <td>253.291155</td>\n",
       "      <td>0.819738</td>\n",
       "      <td>90546</td>\n",
       "      <td>0.758651</td>\n",
       "      <td>1184.040</td>\n",
       "      <td>Kecimen</td>\n",
       "    </tr>\n",
       "    <tr>\n",
       "      <th>1</th>\n",
       "      <td>75166</td>\n",
       "      <td>406.690687</td>\n",
       "      <td>243.032436</td>\n",
       "      <td>0.801805</td>\n",
       "      <td>78789</td>\n",
       "      <td>0.684130</td>\n",
       "      <td>1121.786</td>\n",
       "      <td>Kecimen</td>\n",
       "    </tr>\n",
       "    <tr>\n",
       "      <th>2</th>\n",
       "      <td>90856</td>\n",
       "      <td>442.267048</td>\n",
       "      <td>266.328318</td>\n",
       "      <td>0.798354</td>\n",
       "      <td>93717</td>\n",
       "      <td>0.637613</td>\n",
       "      <td>1208.575</td>\n",
       "      <td>Kecimen</td>\n",
       "    </tr>\n",
       "    <tr>\n",
       "      <th>3</th>\n",
       "      <td>45928</td>\n",
       "      <td>286.540559</td>\n",
       "      <td>208.760042</td>\n",
       "      <td>0.684989</td>\n",
       "      <td>47336</td>\n",
       "      <td>0.699599</td>\n",
       "      <td>844.162</td>\n",
       "      <td>Kecimen</td>\n",
       "    </tr>\n",
       "    <tr>\n",
       "      <th>4</th>\n",
       "      <td>79408</td>\n",
       "      <td>352.190770</td>\n",
       "      <td>290.827533</td>\n",
       "      <td>0.564011</td>\n",
       "      <td>81463</td>\n",
       "      <td>0.792772</td>\n",
       "      <td>1073.251</td>\n",
       "      <td>Kecimen</td>\n",
       "    </tr>\n",
       "  </tbody>\n",
       "</table>\n",
       "</div>"
      ],
      "text/plain": [
       "    Area  MajorAxisLength  MinorAxisLength  Eccentricity  ConvexArea  \\\n",
       "0  87524       442.246011       253.291155      0.819738       90546   \n",
       "1  75166       406.690687       243.032436      0.801805       78789   \n",
       "2  90856       442.267048       266.328318      0.798354       93717   \n",
       "3  45928       286.540559       208.760042      0.684989       47336   \n",
       "4  79408       352.190770       290.827533      0.564011       81463   \n",
       "\n",
       "     Extent  Perimeter    Class  \n",
       "0  0.758651   1184.040  Kecimen  \n",
       "1  0.684130   1121.786  Kecimen  \n",
       "2  0.637613   1208.575  Kecimen  \n",
       "3  0.699599    844.162  Kecimen  \n",
       "4  0.792772   1073.251  Kecimen  "
      ]
     },
     "execution_count": 2,
     "metadata": {},
     "output_type": "execute_result"
    }
   ],
   "source": [
    "df_main = pd.read_excel(\"Raisin_Dataset.xlsx\")\n",
    "df = df_main.copy()\n",
    "df.head()"
   ]
  },
  {
   "cell_type": "code",
   "execution_count": 3,
   "id": "16a52214",
   "metadata": {},
   "outputs": [
    {
     "name": "stdout",
     "output_type": "stream",
     "text": [
      "<class 'pandas.core.frame.DataFrame'>\n",
      "RangeIndex: 900 entries, 0 to 899\n",
      "Data columns (total 8 columns):\n",
      " #   Column           Non-Null Count  Dtype  \n",
      "---  ------           --------------  -----  \n",
      " 0   Area             900 non-null    int64  \n",
      " 1   MajorAxisLength  900 non-null    float64\n",
      " 2   MinorAxisLength  900 non-null    float64\n",
      " 3   Eccentricity     900 non-null    float64\n",
      " 4   ConvexArea       900 non-null    int64  \n",
      " 5   Extent           900 non-null    float64\n",
      " 6   Perimeter        900 non-null    float64\n",
      " 7   Class            900 non-null    object \n",
      "dtypes: float64(5), int64(2), object(1)\n",
      "memory usage: 56.4+ KB\n"
     ]
    }
   ],
   "source": [
    "df.info()"
   ]
  },
  {
   "cell_type": "code",
   "execution_count": 4,
   "id": "b8fc6a33",
   "metadata": {},
   "outputs": [
    {
     "data": {
      "text/html": [
       "<div>\n",
       "<style scoped>\n",
       "    .dataframe tbody tr th:only-of-type {\n",
       "        vertical-align: middle;\n",
       "    }\n",
       "\n",
       "    .dataframe tbody tr th {\n",
       "        vertical-align: top;\n",
       "    }\n",
       "\n",
       "    .dataframe thead th {\n",
       "        text-align: right;\n",
       "    }\n",
       "</style>\n",
       "<table border=\"1\" class=\"dataframe\">\n",
       "  <thead>\n",
       "    <tr style=\"text-align: right;\">\n",
       "      <th></th>\n",
       "      <th>count</th>\n",
       "      <th>mean</th>\n",
       "      <th>std</th>\n",
       "      <th>min</th>\n",
       "      <th>25%</th>\n",
       "      <th>50%</th>\n",
       "      <th>75%</th>\n",
       "      <th>max</th>\n",
       "    </tr>\n",
       "  </thead>\n",
       "  <tbody>\n",
       "    <tr>\n",
       "      <th>Area</th>\n",
       "      <td>900.0</td>\n",
       "      <td>87804.127778</td>\n",
       "      <td>39002.111390</td>\n",
       "      <td>25387.000000</td>\n",
       "      <td>59348.000000</td>\n",
       "      <td>78902.000000</td>\n",
       "      <td>105028.250000</td>\n",
       "      <td>235047.000000</td>\n",
       "    </tr>\n",
       "    <tr>\n",
       "      <th>MajorAxisLength</th>\n",
       "      <td>900.0</td>\n",
       "      <td>430.929950</td>\n",
       "      <td>116.035121</td>\n",
       "      <td>225.629541</td>\n",
       "      <td>345.442898</td>\n",
       "      <td>407.803951</td>\n",
       "      <td>494.187014</td>\n",
       "      <td>997.291941</td>\n",
       "    </tr>\n",
       "    <tr>\n",
       "      <th>MinorAxisLength</th>\n",
       "      <td>900.0</td>\n",
       "      <td>254.488133</td>\n",
       "      <td>49.988902</td>\n",
       "      <td>143.710872</td>\n",
       "      <td>219.111126</td>\n",
       "      <td>247.848409</td>\n",
       "      <td>279.888575</td>\n",
       "      <td>492.275279</td>\n",
       "    </tr>\n",
       "    <tr>\n",
       "      <th>Eccentricity</th>\n",
       "      <td>900.0</td>\n",
       "      <td>0.781542</td>\n",
       "      <td>0.090318</td>\n",
       "      <td>0.348730</td>\n",
       "      <td>0.741766</td>\n",
       "      <td>0.798846</td>\n",
       "      <td>0.842571</td>\n",
       "      <td>0.962124</td>\n",
       "    </tr>\n",
       "    <tr>\n",
       "      <th>ConvexArea</th>\n",
       "      <td>900.0</td>\n",
       "      <td>91186.090000</td>\n",
       "      <td>40769.290132</td>\n",
       "      <td>26139.000000</td>\n",
       "      <td>61513.250000</td>\n",
       "      <td>81651.000000</td>\n",
       "      <td>108375.750000</td>\n",
       "      <td>278217.000000</td>\n",
       "    </tr>\n",
       "    <tr>\n",
       "      <th>Extent</th>\n",
       "      <td>900.0</td>\n",
       "      <td>0.699508</td>\n",
       "      <td>0.053468</td>\n",
       "      <td>0.379856</td>\n",
       "      <td>0.670869</td>\n",
       "      <td>0.707367</td>\n",
       "      <td>0.734991</td>\n",
       "      <td>0.835455</td>\n",
       "    </tr>\n",
       "    <tr>\n",
       "      <th>Perimeter</th>\n",
       "      <td>900.0</td>\n",
       "      <td>1165.906636</td>\n",
       "      <td>273.764315</td>\n",
       "      <td>619.074000</td>\n",
       "      <td>966.410750</td>\n",
       "      <td>1119.509000</td>\n",
       "      <td>1308.389750</td>\n",
       "      <td>2697.753000</td>\n",
       "    </tr>\n",
       "  </tbody>\n",
       "</table>\n",
       "</div>"
      ],
      "text/plain": [
       "                 count          mean           std           min  \\\n",
       "Area             900.0  87804.127778  39002.111390  25387.000000   \n",
       "MajorAxisLength  900.0    430.929950    116.035121    225.629541   \n",
       "MinorAxisLength  900.0    254.488133     49.988902    143.710872   \n",
       "Eccentricity     900.0      0.781542      0.090318      0.348730   \n",
       "ConvexArea       900.0  91186.090000  40769.290132  26139.000000   \n",
       "Extent           900.0      0.699508      0.053468      0.379856   \n",
       "Perimeter        900.0   1165.906636    273.764315    619.074000   \n",
       "\n",
       "                          25%           50%            75%            max  \n",
       "Area             59348.000000  78902.000000  105028.250000  235047.000000  \n",
       "MajorAxisLength    345.442898    407.803951     494.187014     997.291941  \n",
       "MinorAxisLength    219.111126    247.848409     279.888575     492.275279  \n",
       "Eccentricity         0.741766      0.798846       0.842571       0.962124  \n",
       "ConvexArea       61513.250000  81651.000000  108375.750000  278217.000000  \n",
       "Extent               0.670869      0.707367       0.734991       0.835455  \n",
       "Perimeter          966.410750   1119.509000    1308.389750    2697.753000  "
      ]
     },
     "execution_count": 4,
     "metadata": {},
     "output_type": "execute_result"
    }
   ],
   "source": [
    "df.describe().T"
   ]
  },
  {
   "cell_type": "markdown",
   "id": "a589228f-f7be-4c79-94fd-e45cb2c473f4",
   "metadata": {
    "id": "a589228f-f7be-4c79-94fd-e45cb2c473f4",
    "tags": []
   },
   "source": [
    "## Exploratory Data Analysis and Visualization"
   ]
  },
  {
   "cell_type": "code",
   "execution_count": 5,
   "id": "0accb39f",
   "metadata": {
    "id": "0accb39f"
   },
   "outputs": [
    {
     "data": {
      "text/plain": [
       "<AxesSubplot:xlabel='Class', ylabel='count'>"
      ]
     },
     "execution_count": 5,
     "metadata": {},
     "output_type": "execute_result"
    },
    {
     "data": {
      "image/png": "[encoded data removed]",
      "text/plain": [
       "<Figure size 576x396 with 1 Axes>"
      ]
     },
     "metadata": {},
     "output_type": "display_data"
    }
   ],
   "source": [
    "sns.countplot(df[\"Class\"])"
   ]
  },
  {
   "cell_type": "code",
   "execution_count": 6,
   "id": "49f47695",
   "metadata": {},
   "outputs": [
    {
     "data": {
      "image/png": "[encoded data removed]",
      "text/plain": [
       "<Figure size 1152x576 with 2 Axes>"
      ]
     },
     "metadata": {},
     "output_type": "display_data"
    }
   ],
   "source": [
    "fig, ax = plt.subplots(1,2, figsize = (16,8))\n",
    "sns.histplot(df[\"Area\"], kde=True, bins=20,ax=ax[0]);\n",
    "sns.boxplot(data=df, \n",
    "            y=\"Area\",\n",
    "            x = \"Class\",\n",
    "            showmeans=True,\n",
    "            ax=ax[1],\n",
    "            meanprops={\"marker\":\"o\",\n",
    "                       \"markerfacecolor\":\"white\", \n",
    "                       \"markeredgecolor\":\"black\",\n",
    "                       \"markersize\":\"10\"});\n",
    "fig.suptitle(\"Area\", fontsize = 30)\n",
    "plt.tight_layout()"
   ]
  },
  {
   "cell_type": "code",
   "execution_count": 7,
   "id": "6e8e202e",
   "metadata": {},
   "outputs": [
    {
     "data": {
      "image/png": "[encoded data removed]",
      "text/plain": [
       "<Figure size 1152x576 with 2 Axes>"
      ]
     },
     "metadata": {},
     "output_type": "display_data"
    }
   ],
   "source": [
    "fig, ax = plt.subplots(1,2, figsize = (16,8))\n",
    "sns.histplot(df[\"MajorAxisLength\"], kde=True, bins=20,ax=ax[0]);\n",
    "sns.boxplot(data=df, \n",
    "            y=\"MajorAxisLength\",\n",
    "            x = \"Class\",\n",
    "            showmeans=True,\n",
    "            ax=ax[1],\n",
    "            meanprops={\"marker\":\"o\",\n",
    "                       \"markerfacecolor\":\"white\", \n",
    "                       \"markeredgecolor\":\"black\",\n",
    "                       \"markersize\":\"10\"});\n",
    "fig.suptitle(\"MajorAxisLength\", fontsize = 30)\n",
    "plt.tight_layout()"
   ]
  },
  {
   "cell_type": "code",
   "execution_count": 8,
   "id": "b090b3b8",
   "metadata": {},
   "outputs": [
    {
     "data": {
      "text/html": [
       "<div>\n",
       "<style scoped>\n",
       "    .dataframe tbody tr th:only-of-type {\n",
       "        vertical-align: middle;\n",
       "    }\n",
       "\n",
       "    .dataframe tbody tr th {\n",
       "        vertical-align: top;\n",
       "    }\n",
       "\n",
       "    .dataframe thead th {\n",
       "        text-align: right;\n",
       "    }\n",
       "</style>\n",
       "<table border=\"1\" class=\"dataframe\">\n",
       "  <thead>\n",
       "    <tr style=\"text-align: right;\">\n",
       "      <th></th>\n",
       "      <th>Area</th>\n",
       "      <th>MajorAxisLength</th>\n",
       "      <th>MinorAxisLength</th>\n",
       "      <th>Eccentricity</th>\n",
       "      <th>ConvexArea</th>\n",
       "      <th>Extent</th>\n",
       "      <th>Perimeter</th>\n",
       "      <th>Class</th>\n",
       "    </tr>\n",
       "  </thead>\n",
       "  <tbody>\n",
       "    <tr>\n",
       "      <th>85</th>\n",
       "      <td>180898</td>\n",
       "      <td>843.956653</td>\n",
       "      <td>323.190569</td>\n",
       "      <td>0.92377</td>\n",
       "      <td>221396</td>\n",
       "      <td>0.454189</td>\n",
       "      <td>2253.557</td>\n",
       "      <td>Kecimen</td>\n",
       "    </tr>\n",
       "    <tr>\n",
       "      <th>290</th>\n",
       "      <td>136340</td>\n",
       "      <td>722.853917</td>\n",
       "      <td>311.341355</td>\n",
       "      <td>0.90249</td>\n",
       "      <td>176818</td>\n",
       "      <td>0.529774</td>\n",
       "      <td>2098.263</td>\n",
       "      <td>Kecimen</td>\n",
       "    </tr>\n",
       "  </tbody>\n",
       "</table>\n",
       "</div>"
      ],
      "text/plain": [
       "       Area  MajorAxisLength  MinorAxisLength  Eccentricity  ConvexArea  \\\n",
       "85   180898       843.956653       323.190569       0.92377      221396   \n",
       "290  136340       722.853917       311.341355       0.90249      176818   \n",
       "\n",
       "       Extent  Perimeter    Class  \n",
       "85   0.454189   2253.557  Kecimen  \n",
       "290  0.529774   2098.263  Kecimen  "
      ]
     },
     "execution_count": 8,
     "metadata": {},
     "output_type": "execute_result"
    }
   ],
   "source": [
    "df[(df[\"Class\"] == \"Kecimen\") & (df[\"MajorAxisLength\"] > 600)]"
   ]
  },
  {
   "cell_type": "code",
   "execution_count": 9,
   "id": "033cb58f",
   "metadata": {},
   "outputs": [],
   "source": [
    "df.drop(index=df[(df[\"Class\"] == \"Kecimen\") & (df[\"MajorAxisLength\"] > 600)].index, inplace=True)"
   ]
  },
  {
   "cell_type": "code",
   "execution_count": 10,
   "id": "9aa5ca89",
   "metadata": {},
   "outputs": [
    {
     "data": {
      "image/png": "[encoded data removed]",
      "text/plain": [
       "<Figure size 1152x576 with 2 Axes>"
      ]
     },
     "metadata": {},
     "output_type": "display_data"
    }
   ],
   "source": [
    "fig, ax = plt.subplots(1,2, figsize = (16,8))\n",
    "sns.histplot(df[\"MinorAxisLength\"], kde=True, bins=20,ax=ax[0]);\n",
    "sns.boxplot(data=df, \n",
    "            y=\"MinorAxisLength\",\n",
    "            x = \"Class\",\n",
    "            showmeans=True,\n",
    "            ax=ax[1],\n",
    "            meanprops={\"marker\":\"o\",\n",
    "                       \"markerfacecolor\":\"white\", \n",
    "                       \"markeredgecolor\":\"black\",\n",
    "                       \"markersize\":\"10\"});\n",
    "fig.suptitle(\"MinorAxisLength\", fontsize = 30)\n",
    "plt.tight_layout()"
   ]
  },
  {
   "cell_type": "code",
   "execution_count": 11,
   "id": "59805c0a",
   "metadata": {},
   "outputs": [
    {
     "data": {
      "text/html": [
       "<div>\n",
       "<style scoped>\n",
       "    .dataframe tbody tr th:only-of-type {\n",
       "        vertical-align: middle;\n",
       "    }\n",
       "\n",
       "    .dataframe tbody tr th {\n",
       "        vertical-align: top;\n",
       "    }\n",
       "\n",
       "    .dataframe thead th {\n",
       "        text-align: right;\n",
       "    }\n",
       "</style>\n",
       "<table border=\"1\" class=\"dataframe\">\n",
       "  <thead>\n",
       "    <tr style=\"text-align: right;\">\n",
       "      <th></th>\n",
       "      <th>Area</th>\n",
       "      <th>MajorAxisLength</th>\n",
       "      <th>MinorAxisLength</th>\n",
       "      <th>Eccentricity</th>\n",
       "      <th>ConvexArea</th>\n",
       "      <th>Extent</th>\n",
       "      <th>Perimeter</th>\n",
       "      <th>Class</th>\n",
       "    </tr>\n",
       "  </thead>\n",
       "  <tbody>\n",
       "    <tr>\n",
       "      <th>552</th>\n",
       "      <td>204864</td>\n",
       "      <td>596.639802</td>\n",
       "      <td>440.497127</td>\n",
       "      <td>0.674476</td>\n",
       "      <td>209457</td>\n",
       "      <td>0.751009</td>\n",
       "      <td>1726.246</td>\n",
       "      <td>Besni</td>\n",
       "    </tr>\n",
       "    <tr>\n",
       "      <th>880</th>\n",
       "      <td>218459</td>\n",
       "      <td>571.289203</td>\n",
       "      <td>492.275279</td>\n",
       "      <td>0.507432</td>\n",
       "      <td>228259</td>\n",
       "      <td>0.731974</td>\n",
       "      <td>1947.460</td>\n",
       "      <td>Besni</td>\n",
       "    </tr>\n",
       "  </tbody>\n",
       "</table>\n",
       "</div>"
      ],
      "text/plain": [
       "       Area  MajorAxisLength  MinorAxisLength  Eccentricity  ConvexArea  \\\n",
       "552  204864       596.639802       440.497127      0.674476      209457   \n",
       "880  218459       571.289203       492.275279      0.507432      228259   \n",
       "\n",
       "       Extent  Perimeter  Class  \n",
       "552  0.751009   1726.246  Besni  \n",
       "880  0.731974   1947.460  Besni  "
      ]
     },
     "execution_count": 11,
     "metadata": {},
     "output_type": "execute_result"
    }
   ],
   "source": [
    "df[(df[\"Class\"] == \"Besni\") & (df[\"MinorAxisLength\"] > 425)]"
   ]
  },
  {
   "cell_type": "code",
   "execution_count": 12,
   "id": "3c4644c9",
   "metadata": {},
   "outputs": [
    {
     "data": {
      "image/png": "[encoded data removed]",
      "text/plain": [
       "<Figure size 1152x576 with 2 Axes>"
      ]
     },
     "metadata": {},
     "output_type": "display_data"
    }
   ],
   "source": [
    "fig, ax = plt.subplots(1,2, figsize = (16,8))\n",
    "sns.histplot(df[\"Eccentricity\"], kde=True, bins=20,ax=ax[0]);\n",
    "sns.boxplot(data=df, \n",
    "            y=\"Eccentricity\",\n",
    "            x = \"Class\",\n",
    "            showmeans=True,\n",
    "            ax=ax[1],\n",
    "            meanprops={\"marker\":\"o\",\n",
    "                       \"markerfacecolor\":\"white\", \n",
    "                       \"markeredgecolor\":\"black\",\n",
    "                       \"markersize\":\"10\"});\n",
    "fig.suptitle(\"Eccentricity\", fontsize = 30)\n",
    "plt.tight_layout()"
   ]
  },
  {
   "cell_type": "code",
   "execution_count": 13,
   "id": "b93583b6",
   "metadata": {},
   "outputs": [
    {
     "data": {
      "text/html": [
       "<div>\n",
       "<style scoped>\n",
       "    .dataframe tbody tr th:only-of-type {\n",
       "        vertical-align: middle;\n",
       "    }\n",
       "\n",
       "    .dataframe tbody tr th {\n",
       "        vertical-align: top;\n",
       "    }\n",
       "\n",
       "    .dataframe thead th {\n",
       "        text-align: right;\n",
       "    }\n",
       "</style>\n",
       "<table border=\"1\" class=\"dataframe\">\n",
       "  <thead>\n",
       "    <tr style=\"text-align: right;\">\n",
       "      <th></th>\n",
       "      <th>Area</th>\n",
       "      <th>MajorAxisLength</th>\n",
       "      <th>MinorAxisLength</th>\n",
       "      <th>Eccentricity</th>\n",
       "      <th>ConvexArea</th>\n",
       "      <th>Extent</th>\n",
       "      <th>Perimeter</th>\n",
       "      <th>Class</th>\n",
       "    </tr>\n",
       "  </thead>\n",
       "  <tbody>\n",
       "    <tr>\n",
       "      <th>458</th>\n",
       "      <td>124579</td>\n",
       "      <td>439.960503</td>\n",
       "      <td>371.026214</td>\n",
       "      <td>0.537416</td>\n",
       "      <td>128307</td>\n",
       "      <td>0.698250</td>\n",
       "      <td>1373.537</td>\n",
       "      <td>Besni</td>\n",
       "    </tr>\n",
       "    <tr>\n",
       "      <th>483</th>\n",
       "      <td>92188</td>\n",
       "      <td>374.720164</td>\n",
       "      <td>324.302562</td>\n",
       "      <td>0.500991</td>\n",
       "      <td>95920</td>\n",
       "      <td>0.747600</td>\n",
       "      <td>1190.813</td>\n",
       "      <td>Besni</td>\n",
       "    </tr>\n",
       "    <tr>\n",
       "      <th>490</th>\n",
       "      <td>171256</td>\n",
       "      <td>531.373205</td>\n",
       "      <td>412.382817</td>\n",
       "      <td>0.630647</td>\n",
       "      <td>174277</td>\n",
       "      <td>0.701915</td>\n",
       "      <td>1559.214</td>\n",
       "      <td>Besni</td>\n",
       "    </tr>\n",
       "    <tr>\n",
       "      <th>500</th>\n",
       "      <td>143386</td>\n",
       "      <td>469.276508</td>\n",
       "      <td>397.310190</td>\n",
       "      <td>0.532160</td>\n",
       "      <td>146328</td>\n",
       "      <td>0.750260</td>\n",
       "      <td>1422.014</td>\n",
       "      <td>Besni</td>\n",
       "    </tr>\n",
       "    <tr>\n",
       "      <th>558</th>\n",
       "      <td>87857</td>\n",
       "      <td>380.776487</td>\n",
       "      <td>300.908648</td>\n",
       "      <td>0.612784</td>\n",
       "      <td>90968</td>\n",
       "      <td>0.728499</td>\n",
       "      <td>1144.344</td>\n",
       "      <td>Besni</td>\n",
       "    </tr>\n",
       "    <tr>\n",
       "      <th>596</th>\n",
       "      <td>63491</td>\n",
       "      <td>326.632882</td>\n",
       "      <td>248.322449</td>\n",
       "      <td>0.649631</td>\n",
       "      <td>64892</td>\n",
       "      <td>0.734357</td>\n",
       "      <td>950.297</td>\n",
       "      <td>Besni</td>\n",
       "    </tr>\n",
       "    <tr>\n",
       "      <th>639</th>\n",
       "      <td>61123</td>\n",
       "      <td>329.330220</td>\n",
       "      <td>257.268093</td>\n",
       "      <td>0.624299</td>\n",
       "      <td>70556</td>\n",
       "      <td>0.723264</td>\n",
       "      <td>1128.077</td>\n",
       "      <td>Besni</td>\n",
       "    </tr>\n",
       "    <tr>\n",
       "      <th>688</th>\n",
       "      <td>57999</td>\n",
       "      <td>311.022470</td>\n",
       "      <td>243.476121</td>\n",
       "      <td>0.622242</td>\n",
       "      <td>61519</td>\n",
       "      <td>0.656335</td>\n",
       "      <td>968.697</td>\n",
       "      <td>Besni</td>\n",
       "    </tr>\n",
       "    <tr>\n",
       "      <th>831</th>\n",
       "      <td>48488</td>\n",
       "      <td>275.337717</td>\n",
       "      <td>226.802199</td>\n",
       "      <td>0.566991</td>\n",
       "      <td>50103</td>\n",
       "      <td>0.669594</td>\n",
       "      <td>859.326</td>\n",
       "      <td>Besni</td>\n",
       "    </tr>\n",
       "    <tr>\n",
       "      <th>849</th>\n",
       "      <td>102722</td>\n",
       "      <td>416.898937</td>\n",
       "      <td>317.542803</td>\n",
       "      <td>0.647956</td>\n",
       "      <td>107169</td>\n",
       "      <td>0.724420</td>\n",
       "      <td>1261.988</td>\n",
       "      <td>Besni</td>\n",
       "    </tr>\n",
       "    <tr>\n",
       "      <th>861</th>\n",
       "      <td>55858</td>\n",
       "      <td>298.858859</td>\n",
       "      <td>239.899399</td>\n",
       "      <td>0.596359</td>\n",
       "      <td>58630</td>\n",
       "      <td>0.681453</td>\n",
       "      <td>915.130</td>\n",
       "      <td>Besni</td>\n",
       "    </tr>\n",
       "    <tr>\n",
       "      <th>880</th>\n",
       "      <td>218459</td>\n",
       "      <td>571.289203</td>\n",
       "      <td>492.275279</td>\n",
       "      <td>0.507432</td>\n",
       "      <td>228259</td>\n",
       "      <td>0.731974</td>\n",
       "      <td>1947.460</td>\n",
       "      <td>Besni</td>\n",
       "    </tr>\n",
       "  </tbody>\n",
       "</table>\n",
       "</div>"
      ],
      "text/plain": [
       "       Area  MajorAxisLength  MinorAxisLength  Eccentricity  ConvexArea  \\\n",
       "458  124579       439.960503       371.026214      0.537416      128307   \n",
       "483   92188       374.720164       324.302562      0.500991       95920   \n",
       "490  171256       531.373205       412.382817      0.630647      174277   \n",
       "500  143386       469.276508       397.310190      0.532160      146328   \n",
       "558   87857       380.776487       300.908648      0.612784       90968   \n",
       "596   63491       326.632882       248.322449      0.649631       64892   \n",
       "639   61123       329.330220       257.268093      0.624299       70556   \n",
       "688   57999       311.022470       243.476121      0.622242       61519   \n",
       "831   48488       275.337717       226.802199      0.566991       50103   \n",
       "849  102722       416.898937       317.542803      0.647956      107169   \n",
       "861   55858       298.858859       239.899399      0.596359       58630   \n",
       "880  218459       571.289203       492.275279      0.507432      228259   \n",
       "\n",
       "       Extent  Perimeter  Class  \n",
       "458  0.698250   1373.537  Besni  \n",
       "483  0.747600   1190.813  Besni  \n",
       "490  0.701915   1559.214  Besni  \n",
       "500  0.750260   1422.014  Besni  \n",
       "558  0.728499   1144.344  Besni  \n",
       "596  0.734357    950.297  Besni  \n",
       "639  0.723264   1128.077  Besni  \n",
       "688  0.656335    968.697  Besni  \n",
       "831  0.669594    859.326  Besni  \n",
       "849  0.724420   1261.988  Besni  \n",
       "861  0.681453    915.130  Besni  \n",
       "880  0.731974   1947.460  Besni  "
      ]
     },
     "execution_count": 13,
     "metadata": {},
     "output_type": "execute_result"
    }
   ],
   "source": [
    "df[(df[\"Class\"] == \"Besni\") & (df[\"Eccentricity\"] < 0.65)]"
   ]
  },
  {
   "cell_type": "code",
   "execution_count": 14,
   "id": "fb46cb0a",
   "metadata": {},
   "outputs": [
    {
     "data": {
      "image/png": "[encoded data removed]",
      "text/plain": [
       "<Figure size 1152x576 with 2 Axes>"
      ]
     },
     "metadata": {},
     "output_type": "display_data"
    }
   ],
   "source": [
    "fig, ax = plt.subplots(1,2, figsize = (16,8))\n",
    "sns.histplot(df[\"ConvexArea\"], kde=True, bins=20,ax=ax[0]);\n",
    "sns.boxplot(data=df, \n",
    "            y=\"ConvexArea\",\n",
    "            x = \"Class\",\n",
    "            showmeans=True,\n",
    "            ax=ax[1],\n",
    "            meanprops={\"marker\":\"o\",\n",
    "                       \"markerfacecolor\":\"white\", \n",
    "                       \"markeredgecolor\":\"black\",\n",
    "                       \"markersize\":\"10\"});\n",
    "fig.suptitle(\"ConvexArea\", fontsize = 30)\n",
    "plt.tight_layout()"
   ]
  },
  {
   "cell_type": "code",
   "execution_count": 15,
   "id": "41ef3b7f",
   "metadata": {},
   "outputs": [
    {
     "data": {
      "image/png": "[encoded data removed]",
      "text/plain": [
       "<Figure size 1152x576 with 2 Axes>"
      ]
     },
     "metadata": {},
     "output_type": "display_data"
    }
   ],
   "source": [
    "fig, ax = plt.subplots(1,2, figsize = (16,8))\n",
    "sns.histplot(df[\"Extent\"], kde=True, bins=20,ax=ax[0]);\n",
    "sns.boxplot(data=df, \n",
    "            y=\"Extent\",\n",
    "            x = \"Class\",\n",
    "            showmeans=True,\n",
    "            ax=ax[1],\n",
    "            meanprops={\"marker\":\"o\",\n",
    "                       \"markerfacecolor\":\"white\", \n",
    "                       \"markeredgecolor\":\"black\",\n",
    "                       \"markersize\":\"10\"});\n",
    "fig.suptitle(\"Extent\", fontsize = 30)\n",
    "plt.tight_layout()"
   ]
  },
  {
   "cell_type": "code",
   "execution_count": 16,
   "id": "4cc706ef",
   "metadata": {},
   "outputs": [
    {
     "data": {
      "image/png": "[encoded data removed]",
      "text/plain": [
       "<Figure size 1152x576 with 2 Axes>"
      ]
     },
     "metadata": {},
     "output_type": "display_data"
    }
   ],
   "source": [
    "fig, ax = plt.subplots(1,2, figsize = (16,8))\n",
    "sns.histplot(df[\"Perimeter\"], kde=True, bins=20,ax=ax[0]);\n",
    "sns.boxplot(data=df, \n",
    "            y=\"Perimeter\",\n",
    "            x = \"Class\",\n",
    "            showmeans=True,\n",
    "            ax=ax[1],\n",
    "            meanprops={\"marker\":\"o\",\n",
    "                       \"markerfacecolor\":\"white\", \n",
    "                       \"markeredgecolor\":\"black\",\n",
    "                       \"markersize\":\"10\"});\n",
    "fig.suptitle(\"Perimeter\", fontsize = 30)\n",
    "plt.tight_layout()"
   ]
  },
  {
   "cell_type": "code",
   "execution_count": 17,
   "id": "22c32048",
   "metadata": {},
   "outputs": [],
   "source": [
    "df[\"Class\"].replace({\"Besni\":1,\"Kecimen\":0}, inplace=True)"
   ]
  },
  {
   "cell_type": "code",
   "execution_count": 18,
   "id": "49164a96",
   "metadata": {},
   "outputs": [],
   "source": [
    "#sns.pairplot(df, kind=\"reg\")"
   ]
  },
  {
   "cell_type": "code",
   "execution_count": 19,
   "id": "8cbde3fc",
   "metadata": {},
   "outputs": [
    {
     "data": {
      "text/plain": [
       "Area               0.633025\n",
       "MajorAxisLength    0.688047\n",
       "MinorAxisLength    0.507366\n",
       "Eccentricity       0.443297\n",
       "ConvexArea         0.637382\n",
       "Extent            -0.166433\n",
       "Perimeter          0.685498\n",
       "Class              1.000000\n",
       "Name: Class, dtype: float64"
      ]
     },
     "execution_count": 19,
     "metadata": {},
     "output_type": "execute_result"
    }
   ],
   "source": [
    "df.corr()[\"Class\"]"
   ]
  },
  {
   "cell_type": "code",
   "execution_count": 20,
   "id": "b1ffcfa2",
   "metadata": {},
   "outputs": [
    {
     "name": "stdout",
     "output_type": "stream",
     "text": [
      "Corelation with Area and MajorAxisLength is higher than 0.9\n",
      "Corelation with Area and MinorAxisLength is higher than 0.9\n",
      "Corelation with Area and ConvexArea is higher than 0.9\n",
      "Corelation with Area and Perimeter is higher than 0.9\n",
      "Corelation with MajorAxisLength and Area is higher than 0.9\n",
      "Corelation with MajorAxisLength and ConvexArea is higher than 0.9\n",
      "Corelation with MajorAxisLength and Perimeter is higher than 0.9\n",
      "Corelation with MinorAxisLength and Area is higher than 0.9\n",
      "Corelation with ConvexArea and Area is higher than 0.9\n",
      "Corelation with ConvexArea and MajorAxisLength is higher than 0.9\n",
      "Corelation with ConvexArea and Perimeter is higher than 0.9\n",
      "Corelation with Perimeter and Area is higher than 0.9\n",
      "Corelation with Perimeter and MajorAxisLength is higher than 0.9\n",
      "Corelation with Perimeter and ConvexArea is higher than 0.9\n"
     ]
    }
   ],
   "source": [
    "df_corr = df.corr()\n",
    "for i in df_corr.columns:\n",
    "    result = df_corr[i][(abs(df_corr[i])>0.9) & (abs(df_corr[i])!=1)]\n",
    "    if len(result.index)>0:\n",
    "        for j in result.index:\n",
    "            print(f\"Corelation with {i} and {j} is higher than 0.9\")"
   ]
  },
  {
   "cell_type": "code",
   "execution_count": 21,
   "id": "65759985",
   "metadata": {},
   "outputs": [
    {
     "data": {
      "text/plain": [
       "<AxesSubplot:>"
      ]
     },
     "execution_count": 21,
     "metadata": {},
     "output_type": "execute_result"
    },
    {
     "data": {
      "image/png": "[encoded data removed]",
      "text/plain": [
       "<Figure size 864x576 with 2 Axes>"
      ]
     },
     "metadata": {},
     "output_type": "display_data"
    }
   ],
   "source": [
    "plt.figure(figsize=(12,8))\n",
    "sns.heatmap(df.corr(), annot=True)"
   ]
  },
  {
   "cell_type": "markdown",
   "id": "ab14529b-fa6d-4594-9740-4423f7e8e5d2",
   "metadata": {
    "id": "ab14529b-fa6d-4594-9740-4423f7e8e5d2"
   },
   "source": [
    "## Train | Test Split and Scaling\n",
    "\n",
    "* for train_test_split use fallowing arguments:\n",
    "    * train_size: 0.2\n",
    "    * stratify: True\n",
    "    * random_state: 10    \n",
    "* Use StandardScaler to scale the data."
   ]
  },
  {
   "cell_type": "code",
   "execution_count": 22,
   "id": "a188fd4a",
   "metadata": {},
   "outputs": [],
   "source": [
    "X = df.drop(columns=\"Class\")\n",
    "y = df[\"Class\"]"
   ]
  },
  {
   "cell_type": "code",
   "execution_count": 23,
   "id": "1fcfc912",
   "metadata": {},
   "outputs": [],
   "source": [
    "from sklearn.model_selection import train_test_split\n",
    "X_train, X_test, y_train, y_test = train_test_split(X, y, test_size=0.2, stratify=y, random_state=10) "
   ]
  },
  {
   "cell_type": "markdown",
   "id": "4e3dcb9c",
   "metadata": {
    "id": "4e3dcb9c"
   },
   "source": [
    "# Logistic Regression\n",
    "\n",
    "* Train the model using the training set with the default parameters."
   ]
  },
  {
   "cell_type": "code",
   "execution_count": 24,
   "id": "4b444623",
   "metadata": {},
   "outputs": [],
   "source": [
    "from sklearn.preprocessing import StandardScaler, MinMaxScaler, RobustScaler\n",
    "scaler = StandardScaler()\n",
    "from sklearn.linear_model import LogisticRegression\n",
    "model_logistic = LogisticRegression()"
   ]
  },
  {
   "cell_type": "code",
   "execution_count": 25,
   "id": "41eb01f4",
   "metadata": {},
   "outputs": [],
   "source": [
    "from sklearn.pipeline import Pipeline\n",
    "operations = [(\"scaler\", scaler),(\"logistic\",model_logistic)]\n",
    "pipe_logistic = Pipeline(operations)"
   ]
  },
  {
   "cell_type": "code",
   "execution_count": 26,
   "id": "62d836ce",
   "metadata": {},
   "outputs": [
    {
     "data": {
      "text/html": [
       "<div>\n",
       "<style scoped>\n",
       "    .dataframe tbody tr th:only-of-type {\n",
       "        vertical-align: middle;\n",
       "    }\n",
       "\n",
       "    .dataframe tbody tr th {\n",
       "        vertical-align: top;\n",
       "    }\n",
       "\n",
       "    .dataframe thead th {\n",
       "        text-align: right;\n",
       "    }\n",
       "</style>\n",
       "<table border=\"1\" class=\"dataframe\">\n",
       "  <thead>\n",
       "    <tr style=\"text-align: right;\">\n",
       "      <th></th>\n",
       "      <th>Area</th>\n",
       "      <th>MajorAxisLength</th>\n",
       "      <th>MinorAxisLength</th>\n",
       "      <th>Eccentricity</th>\n",
       "      <th>ConvexArea</th>\n",
       "      <th>Extent</th>\n",
       "      <th>Perimeter</th>\n",
       "      <th>Class</th>\n",
       "      <th>y_pred</th>\n",
       "      <th>y_pred_proba</th>\n",
       "    </tr>\n",
       "  </thead>\n",
       "  <tbody>\n",
       "    <tr>\n",
       "      <th>144</th>\n",
       "      <td>46742</td>\n",
       "      <td>303.555203</td>\n",
       "      <td>199.445933</td>\n",
       "      <td>0.753861</td>\n",
       "      <td>48077</td>\n",
       "      <td>0.705263</td>\n",
       "      <td>847.792</td>\n",
       "      <td>0</td>\n",
       "      <td>0</td>\n",
       "      <td>0.036305</td>\n",
       "    </tr>\n",
       "    <tr>\n",
       "      <th>793</th>\n",
       "      <td>76708</td>\n",
       "      <td>458.044640</td>\n",
       "      <td>216.340932</td>\n",
       "      <td>0.881430</td>\n",
       "      <td>78694</td>\n",
       "      <td>0.658393</td>\n",
       "      <td>1135.680</td>\n",
       "      <td>1</td>\n",
       "      <td>1</td>\n",
       "      <td>0.782800</td>\n",
       "    </tr>\n",
       "    <tr>\n",
       "      <th>272</th>\n",
       "      <td>90178</td>\n",
       "      <td>466.249387</td>\n",
       "      <td>250.104302</td>\n",
       "      <td>0.843953</td>\n",
       "      <td>92321</td>\n",
       "      <td>0.752003</td>\n",
       "      <td>1180.478</td>\n",
       "      <td>0</td>\n",
       "      <td>1</td>\n",
       "      <td>0.719834</td>\n",
       "    </tr>\n",
       "    <tr>\n",
       "      <th>77</th>\n",
       "      <td>42637</td>\n",
       "      <td>293.429580</td>\n",
       "      <td>189.432158</td>\n",
       "      <td>0.763693</td>\n",
       "      <td>44052</td>\n",
       "      <td>0.725119</td>\n",
       "      <td>814.182</td>\n",
       "      <td>0</td>\n",
       "      <td>0</td>\n",
       "      <td>0.025369</td>\n",
       "    </tr>\n",
       "    <tr>\n",
       "      <th>732</th>\n",
       "      <td>98260</td>\n",
       "      <td>520.103078</td>\n",
       "      <td>245.209759</td>\n",
       "      <td>0.881885</td>\n",
       "      <td>103918</td>\n",
       "      <td>0.576457</td>\n",
       "      <td>1345.687</td>\n",
       "      <td>1</td>\n",
       "      <td>1</td>\n",
       "      <td>0.984882</td>\n",
       "    </tr>\n",
       "    <tr>\n",
       "      <th>...</th>\n",
       "      <td>...</td>\n",
       "      <td>...</td>\n",
       "      <td>...</td>\n",
       "      <td>...</td>\n",
       "      <td>...</td>\n",
       "      <td>...</td>\n",
       "      <td>...</td>\n",
       "      <td>...</td>\n",
       "      <td>...</td>\n",
       "      <td>...</td>\n",
       "    </tr>\n",
       "    <tr>\n",
       "      <th>806</th>\n",
       "      <td>142239</td>\n",
       "      <td>614.834478</td>\n",
       "      <td>297.735347</td>\n",
       "      <td>0.874928</td>\n",
       "      <td>148078</td>\n",
       "      <td>0.643516</td>\n",
       "      <td>1553.114</td>\n",
       "      <td>1</td>\n",
       "      <td>1</td>\n",
       "      <td>0.998696</td>\n",
       "    </tr>\n",
       "    <tr>\n",
       "      <th>62</th>\n",
       "      <td>78571</td>\n",
       "      <td>443.822291</td>\n",
       "      <td>228.757615</td>\n",
       "      <td>0.856934</td>\n",
       "      <td>81718</td>\n",
       "      <td>0.642193</td>\n",
       "      <td>1157.330</td>\n",
       "      <td>0</td>\n",
       "      <td>1</td>\n",
       "      <td>0.773520</td>\n",
       "    </tr>\n",
       "    <tr>\n",
       "      <th>561</th>\n",
       "      <td>144084</td>\n",
       "      <td>555.921021</td>\n",
       "      <td>332.123889</td>\n",
       "      <td>0.801921</td>\n",
       "      <td>149076</td>\n",
       "      <td>0.729421</td>\n",
       "      <td>1506.255</td>\n",
       "      <td>1</td>\n",
       "      <td>1</td>\n",
       "      <td>0.989246</td>\n",
       "    </tr>\n",
       "    <tr>\n",
       "      <th>113</th>\n",
       "      <td>50545</td>\n",
       "      <td>286.871332</td>\n",
       "      <td>227.159717</td>\n",
       "      <td>0.610713</td>\n",
       "      <td>51771</td>\n",
       "      <td>0.835455</td>\n",
       "      <td>847.664</td>\n",
       "      <td>0</td>\n",
       "      <td>0</td>\n",
       "      <td>0.013124</td>\n",
       "    </tr>\n",
       "    <tr>\n",
       "      <th>504</th>\n",
       "      <td>88290</td>\n",
       "      <td>514.436154</td>\n",
       "      <td>221.444838</td>\n",
       "      <td>0.902609</td>\n",
       "      <td>92317</td>\n",
       "      <td>0.555157</td>\n",
       "      <td>1277.388</td>\n",
       "      <td>1</td>\n",
       "      <td>1</td>\n",
       "      <td>0.978683</td>\n",
       "    </tr>\n",
       "  </tbody>\n",
       "</table>\n",
       "<p>180 rows × 10 columns</p>\n",
       "</div>"
      ],
      "text/plain": [
       "       Area  MajorAxisLength  MinorAxisLength  Eccentricity  ConvexArea  \\\n",
       "144   46742       303.555203       199.445933      0.753861       48077   \n",
       "793   76708       458.044640       216.340932      0.881430       78694   \n",
       "272   90178       466.249387       250.104302      0.843953       92321   \n",
       "77    42637       293.429580       189.432158      0.763693       44052   \n",
       "732   98260       520.103078       245.209759      0.881885      103918   \n",
       "..      ...              ...              ...           ...         ...   \n",
       "806  142239       614.834478       297.735347      0.874928      148078   \n",
       "62    78571       443.822291       228.757615      0.856934       81718   \n",
       "561  144084       555.921021       332.123889      0.801921      149076   \n",
       "113   50545       286.871332       227.159717      0.610713       51771   \n",
       "504   88290       514.436154       221.444838      0.902609       92317   \n",
       "\n",
       "       Extent  Perimeter  Class  y_pred  y_pred_proba  \n",
       "144  0.705263    847.792      0       0      0.036305  \n",
       "793  0.658393   1135.680      1       1      0.782800  \n",
       "272  0.752003   1180.478      0       1      0.719834  \n",
       "77   0.725119    814.182      0       0      0.025369  \n",
       "732  0.576457   1345.687      1       1      0.984882  \n",
       "..        ...        ...    ...     ...           ...  \n",
       "806  0.643516   1553.114      1       1      0.998696  \n",
       "62   0.642193   1157.330      0       1      0.773520  \n",
       "561  0.729421   1506.255      1       1      0.989246  \n",
       "113  0.835455    847.664      0       0      0.013124  \n",
       "504  0.555157   1277.388      1       1      0.978683  \n",
       "\n",
       "[180 rows x 10 columns]"
      ]
     },
     "execution_count": 26,
     "metadata": {},
     "output_type": "execute_result"
    }
   ],
   "source": [
    "pipe_logistic.fit(X_train,y_train)\n",
    "\n",
    "y_pred = pipe_logistic.predict(X_test)\n",
    "y_pred_proba = pipe_logistic.predict_proba(X_test)\n",
    "\n",
    "df_logistic = pd.concat([X_test,y_test], axis=1)\n",
    "df_logistic[\"y_pred\"] = y_pred\n",
    "df_logistic[\"y_pred_proba\"] = y_pred_proba[:,1]\n",
    "df_logistic"
   ]
  },
  {
   "cell_type": "markdown",
   "id": "61461cd3",
   "metadata": {
    "id": "61461cd3"
   },
   "source": [
    "## Model Performance\n",
    "*Check the accuracy of the model using the train and test set by given eval_metric function."
   ]
  },
  {
   "cell_type": "code",
   "execution_count": 27,
   "id": "9247e1d5",
   "metadata": {
    "id": "9247e1d5"
   },
   "outputs": [],
   "source": [
    "def eval_metric(model, X_train, y_train, X_test, y_test):\n",
    "\n",
    "    \"\"\" to get the metrics for the model \"\"\"\n",
    "\n",
    "    y_train_pred = model.predict(X_train)\n",
    "    y_pred = model.predict(X_test)\n",
    "    \n",
    "    print(\"Test_Set\")\n",
    "    print(confusion_matrix(y_test, y_pred))\n",
    "    print(classification_report(y_test, y_pred))\n",
    "    print()\n",
    "    print(\"Train_Set\")\n",
    "    print(confusion_matrix(y_train, y_train_pred))\n",
    "    print(classification_report(y_train, y_train_pred))"
   ]
  },
  {
   "cell_type": "code",
   "execution_count": 28,
   "id": "a2ac6f0f",
   "metadata": {},
   "outputs": [
    {
     "data": {
      "text/plain": [
       "<sklearn.metrics._plot.confusion_matrix.ConfusionMatrixDisplay at 0x1b0c6b9d100>"
      ]
     },
     "execution_count": 28,
     "metadata": {},
     "output_type": "execute_result"
    },
    {
     "data": {
      "image/png": "[encoded data removed]",
      "text/plain": [
       "<Figure size 576x396 with 2 Axes>"
      ]
     },
     "metadata": {},
     "output_type": "display_data"
    }
   ],
   "source": [
    "from sklearn.metrics import accuracy_score, confusion_matrix, classification_report, plot_confusion_matrix\n",
    "plot_confusion_matrix(pipe_logistic, X_test, y_test)"
   ]
  },
  {
   "cell_type": "code",
   "execution_count": 29,
   "id": "d485f3dc",
   "metadata": {},
   "outputs": [
    {
     "name": "stdout",
     "output_type": "stream",
     "text": [
      "Test_Set\n",
      "[[82  8]\n",
      " [14 76]]\n",
      "              precision    recall  f1-score   support\n",
      "\n",
      "           0       0.85      0.91      0.88        90\n",
      "           1       0.90      0.84      0.87        90\n",
      "\n",
      "    accuracy                           0.88       180\n",
      "   macro avg       0.88      0.88      0.88       180\n",
      "weighted avg       0.88      0.88      0.88       180\n",
      "\n",
      "\n",
      "Train_Set\n",
      "[[315  43]\n",
      " [ 53 307]]\n",
      "              precision    recall  f1-score   support\n",
      "\n",
      "           0       0.86      0.88      0.87       358\n",
      "           1       0.88      0.85      0.86       360\n",
      "\n",
      "    accuracy                           0.87       718\n",
      "   macro avg       0.87      0.87      0.87       718\n",
      "weighted avg       0.87      0.87      0.87       718\n",
      "\n"
     ]
    }
   ],
   "source": [
    "eval_metric(pipe_logistic, X_train, y_train, X_test, y_test)"
   ]
  },
  {
   "cell_type": "markdown",
   "id": "e101279a",
   "metadata": {
    "id": "e101279a"
   },
   "source": [
    "### Cross Validate\n",
    "\n",
    "* Use the cross_val_score function to evaluate the model using the train set."
   ]
  },
  {
   "cell_type": "code",
   "execution_count": 30,
   "id": "133677c2",
   "metadata": {
    "id": "133677c2"
   },
   "outputs": [
    {
     "data": {
      "text/html": [
       "<div>\n",
       "<style scoped>\n",
       "    .dataframe tbody tr th:only-of-type {\n",
       "        vertical-align: middle;\n",
       "    }\n",
       "\n",
       "    .dataframe tbody tr th {\n",
       "        vertical-align: top;\n",
       "    }\n",
       "\n",
       "    .dataframe thead th {\n",
       "        text-align: right;\n",
       "    }\n",
       "</style>\n",
       "<table border=\"1\" class=\"dataframe\">\n",
       "  <thead>\n",
       "    <tr style=\"text-align: right;\">\n",
       "      <th></th>\n",
       "      <th>fit_time</th>\n",
       "      <th>score_time</th>\n",
       "      <th>test_precision</th>\n",
       "      <th>test_recall</th>\n",
       "      <th>test_f1</th>\n",
       "      <th>test_accuracy</th>\n",
       "    </tr>\n",
       "  </thead>\n",
       "  <tbody>\n",
       "    <tr>\n",
       "      <th>1</th>\n",
       "      <td>0.027987</td>\n",
       "      <td>0.012010</td>\n",
       "      <td>0.864865</td>\n",
       "      <td>0.888889</td>\n",
       "      <td>0.876712</td>\n",
       "      <td>0.875000</td>\n",
       "    </tr>\n",
       "    <tr>\n",
       "      <th>2</th>\n",
       "      <td>0.018966</td>\n",
       "      <td>0.013001</td>\n",
       "      <td>0.937500</td>\n",
       "      <td>0.833333</td>\n",
       "      <td>0.882353</td>\n",
       "      <td>0.888889</td>\n",
       "    </tr>\n",
       "    <tr>\n",
       "      <th>3</th>\n",
       "      <td>0.019976</td>\n",
       "      <td>0.007004</td>\n",
       "      <td>0.769231</td>\n",
       "      <td>0.833333</td>\n",
       "      <td>0.800000</td>\n",
       "      <td>0.791667</td>\n",
       "    </tr>\n",
       "    <tr>\n",
       "      <th>4</th>\n",
       "      <td>0.017981</td>\n",
       "      <td>0.014992</td>\n",
       "      <td>0.857143</td>\n",
       "      <td>0.833333</td>\n",
       "      <td>0.845070</td>\n",
       "      <td>0.847222</td>\n",
       "    </tr>\n",
       "    <tr>\n",
       "      <th>5</th>\n",
       "      <td>0.026989</td>\n",
       "      <td>0.010992</td>\n",
       "      <td>0.935484</td>\n",
       "      <td>0.805556</td>\n",
       "      <td>0.865672</td>\n",
       "      <td>0.875000</td>\n",
       "    </tr>\n",
       "    <tr>\n",
       "      <th>6</th>\n",
       "      <td>0.016983</td>\n",
       "      <td>0.010990</td>\n",
       "      <td>0.848485</td>\n",
       "      <td>0.777778</td>\n",
       "      <td>0.811594</td>\n",
       "      <td>0.819444</td>\n",
       "    </tr>\n",
       "    <tr>\n",
       "      <th>7</th>\n",
       "      <td>0.016011</td>\n",
       "      <td>0.005996</td>\n",
       "      <td>0.971429</td>\n",
       "      <td>0.944444</td>\n",
       "      <td>0.957746</td>\n",
       "      <td>0.958333</td>\n",
       "    </tr>\n",
       "    <tr>\n",
       "      <th>8</th>\n",
       "      <td>0.005250</td>\n",
       "      <td>0.000000</td>\n",
       "      <td>0.882353</td>\n",
       "      <td>0.833333</td>\n",
       "      <td>0.857143</td>\n",
       "      <td>0.861111</td>\n",
       "    </tr>\n",
       "    <tr>\n",
       "      <th>9</th>\n",
       "      <td>0.000000</td>\n",
       "      <td>0.015625</td>\n",
       "      <td>0.864865</td>\n",
       "      <td>0.888889</td>\n",
       "      <td>0.876712</td>\n",
       "      <td>0.873239</td>\n",
       "    </tr>\n",
       "    <tr>\n",
       "      <th>10</th>\n",
       "      <td>0.015624</td>\n",
       "      <td>0.000000</td>\n",
       "      <td>0.885714</td>\n",
       "      <td>0.861111</td>\n",
       "      <td>0.873239</td>\n",
       "      <td>0.873239</td>\n",
       "    </tr>\n",
       "  </tbody>\n",
       "</table>\n",
       "</div>"
      ],
      "text/plain": [
       "    fit_time  score_time  test_precision  test_recall   test_f1  test_accuracy\n",
       "1   0.027987    0.012010        0.864865     0.888889  0.876712       0.875000\n",
       "2   0.018966    0.013001        0.937500     0.833333  0.882353       0.888889\n",
       "3   0.019976    0.007004        0.769231     0.833333  0.800000       0.791667\n",
       "4   0.017981    0.014992        0.857143     0.833333  0.845070       0.847222\n",
       "5   0.026989    0.010992        0.935484     0.805556  0.865672       0.875000\n",
       "6   0.016983    0.010990        0.848485     0.777778  0.811594       0.819444\n",
       "7   0.016011    0.005996        0.971429     0.944444  0.957746       0.958333\n",
       "8   0.005250    0.000000        0.882353     0.833333  0.857143       0.861111\n",
       "9   0.000000    0.015625        0.864865     0.888889  0.876712       0.873239\n",
       "10  0.015624    0.000000        0.885714     0.861111  0.873239       0.873239"
      ]
     },
     "execution_count": 30,
     "metadata": {},
     "output_type": "execute_result"
    }
   ],
   "source": [
    "from sklearn.model_selection import cross_validate\n",
    "\n",
    "scores = cross_validate(pipe_logistic, X_train, y_train, scoring = ['precision','recall','f1','accuracy'], cv = 10)\n",
    "df_scores = pd.DataFrame(scores, index = range(1, 11))\n",
    "df_scores"
   ]
  },
  {
   "cell_type": "code",
   "execution_count": 31,
   "id": "f2c9725b",
   "metadata": {},
   "outputs": [
    {
     "data": {
      "text/plain": [
       "test_precision    0.881707\n",
       "test_recall       0.850000\n",
       "test_f1           0.864624\n",
       "test_accuracy     0.866315\n",
       "dtype: float64"
      ]
     },
     "execution_count": 31,
     "metadata": {},
     "output_type": "execute_result"
    }
   ],
   "source": [
    "df_scores.mean()[2:]"
   ]
  },
  {
   "cell_type": "markdown",
   "id": "fd39b4ec",
   "metadata": {
    "id": "fd39b4ec"
   },
   "source": [
    "### GridSearchCV\n",
    "* Use the GridSearchCV function to find the best parameters for the model."
   ]
  },
  {
   "cell_type": "code",
   "execution_count": 32,
   "id": "d4bd95bc",
   "metadata": {},
   "outputs": [
    {
     "data": {
      "text/plain": [
       "{'memory': None,\n",
       " 'steps': [('scaler', StandardScaler()), ('logistic', LogisticRegression())],\n",
       " 'verbose': False,\n",
       " 'scaler': StandardScaler(),\n",
       " 'logistic': LogisticRegression(),\n",
       " 'scaler__copy': True,\n",
       " 'scaler__with_mean': True,\n",
       " 'scaler__with_std': True,\n",
       " 'logistic__C': 1.0,\n",
       " 'logistic__class_weight': None,\n",
       " 'logistic__dual': False,\n",
       " 'logistic__fit_intercept': True,\n",
       " 'logistic__intercept_scaling': 1,\n",
       " 'logistic__l1_ratio': None,\n",
       " 'logistic__max_iter': 100,\n",
       " 'logistic__multi_class': 'auto',\n",
       " 'logistic__n_jobs': None,\n",
       " 'logistic__penalty': 'l2',\n",
       " 'logistic__random_state': None,\n",
       " 'logistic__solver': 'lbfgs',\n",
       " 'logistic__tol': 0.0001,\n",
       " 'logistic__verbose': 0,\n",
       " 'logistic__warm_start': False}"
      ]
     },
     "execution_count": 32,
     "metadata": {},
     "output_type": "execute_result"
    }
   ],
   "source": [
    "pipe_logistic.get_params()"
   ]
  },
  {
   "cell_type": "code",
   "execution_count": 33,
   "id": "7b37b0c3",
   "metadata": {},
   "outputs": [],
   "source": [
    "param_grid = {\"logistic__l1_ratio\" : [0.1,0.3,0.5,0.7,0.9,0.95,1],\n",
    "         \"logistic__C\" : np.linspace(1,10,10),\n",
    "         \"logistic__max_iter\" : [1000],\n",
    "          \"logistic__n_jobs\" : [-1],\n",
    "         \"logistic__penalty\" : ['l1', 'l2', 'elasticnet'],\n",
    "            \"logistic__solver\" : [\"lbfgs\", \"liblinear\", \"sag\", \"saga\"],\n",
    "             \"logistic__class_weight\" : [\"balanced\", None]}"
   ]
  },
  {
   "cell_type": "code",
   "execution_count": 34,
   "id": "e801752b",
   "metadata": {},
   "outputs": [
    {
     "data": {
      "text/plain": [
       "GridSearchCV(cv=10,\n",
       "             estimator=Pipeline(steps=[('scaler', StandardScaler()),\n",
       "                                       ('logistic', LogisticRegression())]),\n",
       "             param_grid={'logistic__C': array([ 1.,  2.,  3.,  4.,  5.,  6.,  7.,  8.,  9., 10.]),\n",
       "                         'logistic__class_weight': ['balanced', None],\n",
       "                         'logistic__l1_ratio': [0.1, 0.3, 0.5, 0.7, 0.9, 0.95,\n",
       "                                                1],\n",
       "                         'logistic__max_iter': [1000], 'logistic__n_jobs': [-1],\n",
       "                         'logistic__penalty': ['l1', 'l2', 'elasticnet'],\n",
       "                         'logistic__solver': ['lbfgs', 'liblinear', 'sag',\n",
       "                                              'saga']})"
      ]
     },
     "execution_count": 34,
     "metadata": {},
     "output_type": "execute_result"
    }
   ],
   "source": [
    "grid_model = GridSearchCV(pipe_logistic, param_grid = param_grid, cv=10)\n",
    "grid_model.fit(X_train,y_train)"
   ]
  },
  {
   "cell_type": "code",
   "execution_count": 35,
   "id": "76caeead",
   "metadata": {},
   "outputs": [
    {
     "data": {
      "text/plain": [
       "{'logistic__C': 6.0,\n",
       " 'logistic__class_weight': 'balanced',\n",
       " 'logistic__l1_ratio': 0.1,\n",
       " 'logistic__max_iter': 1000,\n",
       " 'logistic__n_jobs': -1,\n",
       " 'logistic__penalty': 'l1',\n",
       " 'logistic__solver': 'saga'}"
      ]
     },
     "execution_count": 35,
     "metadata": {},
     "output_type": "execute_result"
    }
   ],
   "source": [
    "grid_model.best_params_"
   ]
  },
  {
   "cell_type": "code",
   "execution_count": 36,
   "id": "a25d650d",
   "metadata": {},
   "outputs": [
    {
     "data": {
      "text/plain": [
       "0.8705203442879499"
      ]
     },
     "execution_count": 36,
     "metadata": {},
     "output_type": "execute_result"
    }
   ],
   "source": [
    "grid_model.best_score_"
   ]
  },
  {
   "cell_type": "code",
   "execution_count": 37,
   "id": "27b2c8b7",
   "metadata": {},
   "outputs": [
    {
     "data": {
      "text/plain": [
       "<sklearn.metrics._plot.confusion_matrix.ConfusionMatrixDisplay at 0x1b0cb9dd8e0>"
      ]
     },
     "execution_count": 37,
     "metadata": {},
     "output_type": "execute_result"
    },
    {
     "data": {
      "image/png": "[encoded data removed]",
      "text/plain": [
       "<Figure size 576x396 with 2 Axes>"
      ]
     },
     "metadata": {},
     "output_type": "display_data"
    }
   ],
   "source": [
    "plot_confusion_matrix(grid_model, X_test, y_test)"
   ]
  },
  {
   "cell_type": "code",
   "execution_count": 38,
   "id": "8ccbc235",
   "metadata": {},
   "outputs": [
    {
     "name": "stdout",
     "output_type": "stream",
     "text": [
      "Test_Set\n",
      "[[81  9]\n",
      " [11 79]]\n",
      "              precision    recall  f1-score   support\n",
      "\n",
      "           0       0.88      0.90      0.89        90\n",
      "           1       0.90      0.88      0.89        90\n",
      "\n",
      "    accuracy                           0.89       180\n",
      "   macro avg       0.89      0.89      0.89       180\n",
      "weighted avg       0.89      0.89      0.89       180\n",
      "\n",
      "\n",
      "Train_Set\n",
      "[[320  38]\n",
      " [ 54 306]]\n",
      "              precision    recall  f1-score   support\n",
      "\n",
      "           0       0.86      0.89      0.87       358\n",
      "           1       0.89      0.85      0.87       360\n",
      "\n",
      "    accuracy                           0.87       718\n",
      "   macro avg       0.87      0.87      0.87       718\n",
      "weighted avg       0.87      0.87      0.87       718\n",
      "\n"
     ]
    }
   ],
   "source": [
    "eval_metric(grid_model, X_train, y_train, X_test, y_test)"
   ]
  },
  {
   "cell_type": "markdown",
   "id": "9dc6e45b",
   "metadata": {
    "id": "9dc6e45b"
   },
   "source": [
    "## ROC (Receiver Operating Curve) and AUC (Area Under Curve)\n",
    "\n",
    "* Use the roc_curve function to calculate the ROC curve and compare logistic regression models with default and tuned parameters. "
   ]
  },
  {
   "cell_type": "code",
   "execution_count": 39,
   "id": "8b616a61",
   "metadata": {
    "id": "8b616a61"
   },
   "outputs": [],
   "source": [
    "from sklearn.metrics import plot_roc_curve, plot_precision_recall_curve, roc_auc_score, auc, roc_curve, average_precision_score, precision_recall_curve"
   ]
  },
  {
   "cell_type": "code",
   "execution_count": 40,
   "id": "0b8a7f75",
   "metadata": {},
   "outputs": [
    {
     "data": {
      "image/png": "[encoded data removed]",
      "text/plain": [
       "<Figure size 576x396 with 1 Axes>"
      ]
     },
     "metadata": {},
     "output_type": "display_data"
    }
   ],
   "source": [
    "plot_roc_curve(pipe_logistic, X_test, y_test);"
   ]
  },
  {
   "cell_type": "code",
   "execution_count": 41,
   "id": "e9970b02",
   "metadata": {},
   "outputs": [
    {
     "data": {
      "image/png": "[encoded data removed]",
      "text/plain": [
       "<Figure size 576x396 with 1 Axes>"
      ]
     },
     "metadata": {},
     "output_type": "display_data"
    }
   ],
   "source": [
    "plot_roc_curve(grid_model, X_test, y_test);"
   ]
  },
  {
   "cell_type": "code",
   "execution_count": 42,
   "id": "779080cf",
   "metadata": {},
   "outputs": [
    {
     "data": {
      "text/plain": [
       "0.9348541278708876"
      ]
     },
     "execution_count": 42,
     "metadata": {},
     "output_type": "execute_result"
    }
   ],
   "source": [
    "y_pred_proba = grid_model.predict_proba(X_train)\n",
    "roc_auc_score(y_train, y_pred_proba[:,1])"
   ]
  },
  {
   "cell_type": "code",
   "execution_count": 43,
   "id": "f258c1b5",
   "metadata": {},
   "outputs": [
    {
     "data": {
      "text/plain": [
       "0.586500067842569"
      ]
     },
     "execution_count": 43,
     "metadata": {},
     "output_type": "execute_result"
    }
   ],
   "source": [
    "\n",
    "fp_rate, tp_rate, thresholds = roc_curve(y_train, y_pred_proba[:,1])\n",
    "\n",
    "optimal_idx = np.argmax(tp_rate - fp_rate)\n",
    "\n",
    "optimal_threshold = thresholds[optimal_idx]\n",
    "optimal_threshold"
   ]
  },
  {
   "cell_type": "code",
   "execution_count": 44,
   "id": "731f035c",
   "metadata": {},
   "outputs": [
    {
     "data": {
      "text/plain": [
       "0.9487959117127345"
      ]
     },
     "execution_count": 44,
     "metadata": {},
     "output_type": "execute_result"
    }
   ],
   "source": [
    "y_pred_proba = grid_model.predict_proba(X_train)\n",
    "average_precision_score(y_train, y_pred_proba[:,1])"
   ]
  },
  {
   "cell_type": "code",
   "execution_count": 45,
   "id": "ef8dfafe",
   "metadata": {},
   "outputs": [
    {
     "data": {
      "text/plain": [
       "0.49964183485221764"
      ]
     },
     "execution_count": 45,
     "metadata": {},
     "output_type": "execute_result"
    }
   ],
   "source": [
    "precisions, recalls, thresholds = precision_recall_curve(y_train, y_pred_proba[:,1])\n",
    "\n",
    "optimal_idx = np.argmax((2 * precisions * recalls) / (precisions + recalls))\n",
    "optimal_threshold = thresholds[optimal_idx]\n",
    "optimal_threshold"
   ]
  },
  {
   "cell_type": "code",
   "execution_count": 46,
   "id": "6401f107",
   "metadata": {},
   "outputs": [
    {
     "name": "stdout",
     "output_type": "stream",
     "text": [
      "[[81  9]\n",
      " [11 79]]\n",
      "              precision    recall  f1-score   support\n",
      "\n",
      "           0       0.88      0.90      0.89        90\n",
      "           1       0.90      0.88      0.89        90\n",
      "\n",
      "    accuracy                           0.89       180\n",
      "   macro avg       0.89      0.89      0.89       180\n",
      "weighted avg       0.89      0.89      0.89       180\n",
      "\n"
     ]
    }
   ],
   "source": [
    "y_pred2 = pd.Series(grid_model.predict_proba(X_test)[:,1]).apply(lambda x : 1 if x >= optimal_threshold else 0)\n",
    "print(confusion_matrix(y_test,y_pred2))\n",
    "print(classification_report(y_test,y_pred2))"
   ]
  },
  {
   "cell_type": "markdown",
   "id": "9d05a8cd",
   "metadata": {
    "id": "9d05a8cd"
   },
   "source": [
    "## KNN (K-Nearest Neighbors)\n",
    "* Train the model using the training set with the default parameters."
   ]
  },
  {
   "cell_type": "code",
   "execution_count": 47,
   "id": "36c09ea9",
   "metadata": {
    "id": "36c09ea9"
   },
   "outputs": [],
   "source": [
    "from sklearn.preprocessing import StandardScaler, MinMaxScaler, RobustScaler\n",
    "scaler = StandardScaler()\n",
    "from sklearn.neighbors import KNeighborsClassifier\n",
    "model_knn = KNeighborsClassifier()"
   ]
  },
  {
   "cell_type": "code",
   "execution_count": 48,
   "id": "db9be4ea",
   "metadata": {},
   "outputs": [
    {
     "data": {
      "text/html": [
       "<div>\n",
       "<style scoped>\n",
       "    .dataframe tbody tr th:only-of-type {\n",
       "        vertical-align: middle;\n",
       "    }\n",
       "\n",
       "    .dataframe tbody tr th {\n",
       "        vertical-align: top;\n",
       "    }\n",
       "\n",
       "    .dataframe thead th {\n",
       "        text-align: right;\n",
       "    }\n",
       "</style>\n",
       "<table border=\"1\" class=\"dataframe\">\n",
       "  <thead>\n",
       "    <tr style=\"text-align: right;\">\n",
       "      <th></th>\n",
       "      <th>Area</th>\n",
       "      <th>MajorAxisLength</th>\n",
       "      <th>MinorAxisLength</th>\n",
       "      <th>Eccentricity</th>\n",
       "      <th>ConvexArea</th>\n",
       "      <th>Extent</th>\n",
       "      <th>Perimeter</th>\n",
       "      <th>Class</th>\n",
       "      <th>y_pred</th>\n",
       "      <th>y_pred_proba</th>\n",
       "    </tr>\n",
       "  </thead>\n",
       "  <tbody>\n",
       "    <tr>\n",
       "      <th>144</th>\n",
       "      <td>46742</td>\n",
       "      <td>303.555203</td>\n",
       "      <td>199.445933</td>\n",
       "      <td>0.753861</td>\n",
       "      <td>48077</td>\n",
       "      <td>0.705263</td>\n",
       "      <td>847.792</td>\n",
       "      <td>0</td>\n",
       "      <td>0</td>\n",
       "      <td>0.0</td>\n",
       "    </tr>\n",
       "    <tr>\n",
       "      <th>793</th>\n",
       "      <td>76708</td>\n",
       "      <td>458.044640</td>\n",
       "      <td>216.340932</td>\n",
       "      <td>0.881430</td>\n",
       "      <td>78694</td>\n",
       "      <td>0.658393</td>\n",
       "      <td>1135.680</td>\n",
       "      <td>1</td>\n",
       "      <td>1</td>\n",
       "      <td>1.0</td>\n",
       "    </tr>\n",
       "    <tr>\n",
       "      <th>272</th>\n",
       "      <td>90178</td>\n",
       "      <td>466.249387</td>\n",
       "      <td>250.104302</td>\n",
       "      <td>0.843953</td>\n",
       "      <td>92321</td>\n",
       "      <td>0.752003</td>\n",
       "      <td>1180.478</td>\n",
       "      <td>0</td>\n",
       "      <td>1</td>\n",
       "      <td>0.8</td>\n",
       "    </tr>\n",
       "    <tr>\n",
       "      <th>77</th>\n",
       "      <td>42637</td>\n",
       "      <td>293.429580</td>\n",
       "      <td>189.432158</td>\n",
       "      <td>0.763693</td>\n",
       "      <td>44052</td>\n",
       "      <td>0.725119</td>\n",
       "      <td>814.182</td>\n",
       "      <td>0</td>\n",
       "      <td>0</td>\n",
       "      <td>0.0</td>\n",
       "    </tr>\n",
       "    <tr>\n",
       "      <th>732</th>\n",
       "      <td>98260</td>\n",
       "      <td>520.103078</td>\n",
       "      <td>245.209759</td>\n",
       "      <td>0.881885</td>\n",
       "      <td>103918</td>\n",
       "      <td>0.576457</td>\n",
       "      <td>1345.687</td>\n",
       "      <td>1</td>\n",
       "      <td>1</td>\n",
       "      <td>1.0</td>\n",
       "    </tr>\n",
       "    <tr>\n",
       "      <th>...</th>\n",
       "      <td>...</td>\n",
       "      <td>...</td>\n",
       "      <td>...</td>\n",
       "      <td>...</td>\n",
       "      <td>...</td>\n",
       "      <td>...</td>\n",
       "      <td>...</td>\n",
       "      <td>...</td>\n",
       "      <td>...</td>\n",
       "      <td>...</td>\n",
       "    </tr>\n",
       "    <tr>\n",
       "      <th>806</th>\n",
       "      <td>142239</td>\n",
       "      <td>614.834478</td>\n",
       "      <td>297.735347</td>\n",
       "      <td>0.874928</td>\n",
       "      <td>148078</td>\n",
       "      <td>0.643516</td>\n",
       "      <td>1553.114</td>\n",
       "      <td>1</td>\n",
       "      <td>1</td>\n",
       "      <td>1.0</td>\n",
       "    </tr>\n",
       "    <tr>\n",
       "      <th>62</th>\n",
       "      <td>78571</td>\n",
       "      <td>443.822291</td>\n",
       "      <td>228.757615</td>\n",
       "      <td>0.856934</td>\n",
       "      <td>81718</td>\n",
       "      <td>0.642193</td>\n",
       "      <td>1157.330</td>\n",
       "      <td>0</td>\n",
       "      <td>1</td>\n",
       "      <td>1.0</td>\n",
       "    </tr>\n",
       "    <tr>\n",
       "      <th>561</th>\n",
       "      <td>144084</td>\n",
       "      <td>555.921021</td>\n",
       "      <td>332.123889</td>\n",
       "      <td>0.801921</td>\n",
       "      <td>149076</td>\n",
       "      <td>0.729421</td>\n",
       "      <td>1506.255</td>\n",
       "      <td>1</td>\n",
       "      <td>1</td>\n",
       "      <td>1.0</td>\n",
       "    </tr>\n",
       "    <tr>\n",
       "      <th>113</th>\n",
       "      <td>50545</td>\n",
       "      <td>286.871332</td>\n",
       "      <td>227.159717</td>\n",
       "      <td>0.610713</td>\n",
       "      <td>51771</td>\n",
       "      <td>0.835455</td>\n",
       "      <td>847.664</td>\n",
       "      <td>0</td>\n",
       "      <td>0</td>\n",
       "      <td>0.0</td>\n",
       "    </tr>\n",
       "    <tr>\n",
       "      <th>504</th>\n",
       "      <td>88290</td>\n",
       "      <td>514.436154</td>\n",
       "      <td>221.444838</td>\n",
       "      <td>0.902609</td>\n",
       "      <td>92317</td>\n",
       "      <td>0.555157</td>\n",
       "      <td>1277.388</td>\n",
       "      <td>1</td>\n",
       "      <td>1</td>\n",
       "      <td>1.0</td>\n",
       "    </tr>\n",
       "  </tbody>\n",
       "</table>\n",
       "<p>180 rows × 10 columns</p>\n",
       "</div>"
      ],
      "text/plain": [
       "       Area  MajorAxisLength  MinorAxisLength  Eccentricity  ConvexArea  \\\n",
       "144   46742       303.555203       199.445933      0.753861       48077   \n",
       "793   76708       458.044640       216.340932      0.881430       78694   \n",
       "272   90178       466.249387       250.104302      0.843953       92321   \n",
       "77    42637       293.429580       189.432158      0.763693       44052   \n",
       "732   98260       520.103078       245.209759      0.881885      103918   \n",
       "..      ...              ...              ...           ...         ...   \n",
       "806  142239       614.834478       297.735347      0.874928      148078   \n",
       "62    78571       443.822291       228.757615      0.856934       81718   \n",
       "561  144084       555.921021       332.123889      0.801921      149076   \n",
       "113   50545       286.871332       227.159717      0.610713       51771   \n",
       "504   88290       514.436154       221.444838      0.902609       92317   \n",
       "\n",
       "       Extent  Perimeter  Class  y_pred  y_pred_proba  \n",
       "144  0.705263    847.792      0       0           0.0  \n",
       "793  0.658393   1135.680      1       1           1.0  \n",
       "272  0.752003   1180.478      0       1           0.8  \n",
       "77   0.725119    814.182      0       0           0.0  \n",
       "732  0.576457   1345.687      1       1           1.0  \n",
       "..        ...        ...    ...     ...           ...  \n",
       "806  0.643516   1553.114      1       1           1.0  \n",
       "62   0.642193   1157.330      0       1           1.0  \n",
       "561  0.729421   1506.255      1       1           1.0  \n",
       "113  0.835455    847.664      0       0           0.0  \n",
       "504  0.555157   1277.388      1       1           1.0  \n",
       "\n",
       "[180 rows x 10 columns]"
      ]
     },
     "execution_count": 48,
     "metadata": {},
     "output_type": "execute_result"
    }
   ],
   "source": [
    "operations = [(\"scaler\",scaler),(\"knn\",model_knn)]\n",
    "pipe_knn = Pipeline(operations)\n",
    "\n",
    "pipe_knn.fit(X_train, y_train)\n",
    "\n",
    "y_pred = pipe_knn.predict(X_test)\n",
    "y_pred_proba = pipe_knn.predict_proba(X_test)\n",
    "\n",
    "df_knn = pd.concat([X_test,y_test], axis=1)\n",
    "df_knn[\"y_pred\"] = y_pred\n",
    "df_knn[\"y_pred_proba\"] = y_pred_proba[:,1]\n",
    "df_knn"
   ]
  },
  {
   "cell_type": "code",
   "execution_count": 49,
   "id": "0fe34578",
   "metadata": {},
   "outputs": [
    {
     "data": {
      "text/plain": [
       "array([[81,  9],\n",
       "       [16, 74]], dtype=int64)"
      ]
     },
     "execution_count": 49,
     "metadata": {},
     "output_type": "execute_result"
    }
   ],
   "source": [
    "from sklearn.metrics import confusion_matrix, classification_report, plot_confusion_matrix\n",
    "confusion_matrix(y_test, y_pred)"
   ]
  },
  {
   "cell_type": "code",
   "execution_count": 50,
   "id": "36b05858",
   "metadata": {},
   "outputs": [
    {
     "data": {
      "image/png": "[encoded data removed]",
      "text/plain": [
       "<Figure size 576x396 with 2 Axes>"
      ]
     },
     "metadata": {},
     "output_type": "display_data"
    }
   ],
   "source": [
    "plot_confusion_matrix(pipe_knn, X_test, y_test);"
   ]
  },
  {
   "cell_type": "code",
   "execution_count": 51,
   "id": "ce4f655c",
   "metadata": {},
   "outputs": [
    {
     "name": "stdout",
     "output_type": "stream",
     "text": [
      "[[81  9]\n",
      " [16 74]]\n",
      "              precision    recall  f1-score   support\n",
      "\n",
      "           0       0.84      0.90      0.87        90\n",
      "           1       0.89      0.82      0.86        90\n",
      "\n",
      "    accuracy                           0.86       180\n",
      "   macro avg       0.86      0.86      0.86       180\n",
      "weighted avg       0.86      0.86      0.86       180\n",
      "\n"
     ]
    }
   ],
   "source": [
    "print(confusion_matrix(y_test, y_pred))\n",
    "print(classification_report(y_test, y_pred))"
   ]
  },
  {
   "cell_type": "code",
   "execution_count": null,
   "id": "8b7ef758",
   "metadata": {},
   "outputs": [],
   "source": []
  },
  {
   "cell_type": "markdown",
   "id": "1c42ff0e",
   "metadata": {
    "id": "1c42ff0e"
   },
   "source": [
    "### Elbow Method for Choosing Reasonable K Values\n",
    "* Use the elbow method to find the optimal number of neighbors."
   ]
  },
  {
   "cell_type": "code",
   "execution_count": 73,
   "id": "e5b3c136",
   "metadata": {},
   "outputs": [],
   "source": [
    "from sklearn.metrics import accuracy_score, f1_score, recall_score, precision_score\n",
    "test_error_rates = []\n",
    "\n",
    "\n",
    "for k in range(1,30):\n",
    "    pipe_elbow = Pipeline(steps = [(\"scaler\",scaler),(\"elbow\",KNeighborsClassifier(n_neighbors=k))])  # {'n_neighbors': 21, 'p': 2, 'weights': 'uniform'}\n",
    "    pipe_elbow.fit(X_train,y_train) \n",
    "   \n",
    "    y_pred_test = pipe_elbow.predict(X_test)\n",
    "    \n",
    "    \n",
    "    test_error = 1 - accuracy_score(y_test,y_pred_test)\n",
    "    \n",
    "    test_error_rates.append(test_error)"
   ]
  },
  {
   "cell_type": "code",
   "execution_count": 76,
   "id": "2b66af1d",
   "metadata": {},
   "outputs": [
    {
     "data": {
      "text/plain": [
       "<matplotlib.collections.LineCollection at 0x1b0c98e2670>"
      ]
     },
     "execution_count": 76,
     "metadata": {},
     "output_type": "execute_result"
    },
    {
     "data": {
      "image/png": "[encoded data removed]",
      "text/plain": [
       "<Figure size 1080x576 with 1 Axes>"
      ]
     },
     "metadata": {},
     "output_type": "display_data"
    }
   ],
   "source": [
    "plt.figure(figsize=(15,8))\n",
    "plt.plot(range(1,30), test_error_rates, color='blue', linestyle='--', marker='o',\n",
    "         markerfacecolor='red', markersize=10)\n",
    "\n",
    "plt.title('Error Rate vs. K Value')\n",
    "plt.xlabel('K_values')\n",
    "plt.ylabel('Error Rate')\n",
    "plt.hlines(y=0.138, xmin = 0, xmax = 50, colors= 'r', linestyles=\"--\")\n",
    "plt.hlines(y=0.133, xmin = 0, xmax = 50, colors= 'r', linestyles=\"--\")"
   ]
  },
  {
   "cell_type": "code",
   "execution_count": 77,
   "id": "6b8922e5",
   "metadata": {},
   "outputs": [],
   "source": [
    "test_error_rates = []\n",
    "train_error_rates = []\n",
    "\n",
    "\n",
    "for k in range(1,30):\n",
    "    pipe_elbow = Pipeline(steps = [(\"scaler\",scaler),(\"elbow\",KNeighborsClassifier(n_neighbors=k))])  # {'n_neighbors': 21, 'p': 2, 'weights': 'uniform'}\n",
    "    pipe_elbow.fit(X_train,y_train) \n",
    "   \n",
    "    y_pred_test = pipe_elbow.predict(X_test)\n",
    "    y_pred_train = pipe_elbow.predict(X_train)\n",
    "    \n",
    "    test_error = 1 - accuracy_score(y_test,y_pred_test)\n",
    "    train_error = 1 - accuracy_score(y_train,y_pred_train)\n",
    "    test_error_rates.append(test_error)\n",
    "    train_error_rates.append(train_error)"
   ]
  },
  {
   "cell_type": "code",
   "execution_count": 79,
   "id": "f8ba399a",
   "metadata": {},
   "outputs": [
    {
     "data": {
      "text/plain": [
       "<matplotlib.collections.LineCollection at 0x1b0c97b5580>"
      ]
     },
     "execution_count": 79,
     "metadata": {},
     "output_type": "execute_result"
    },
    {
     "data": {
      "image/png": "[encoded data removed]",
      "text/plain": [
       "<Figure size 1080x576 with 1 Axes>"
      ]
     },
     "metadata": {},
     "output_type": "display_data"
    }
   ],
   "source": [
    "plt.figure(figsize=(15,8))\n",
    "plt.plot(range(1,30), test_error_rates, color='blue', linestyle='--', marker='o',\n",
    "         markerfacecolor='red', markersize=10)\n",
    "plt.plot(range(1,30), train_error_rates, color='green', linestyle='--', marker='o',\n",
    "         markerfacecolor='blue', markersize=10)\n",
    "plt.title('Error Rate vs. K Value')\n",
    "plt.xlabel('K_values')\n",
    "plt.ylabel('Error Rate')\n",
    "plt.hlines(y=0.140, xmin = 0, xmax = 30, colors= 'r', linestyles=\"--\")\n",
    "plt.hlines(y=0.130, xmin = 0, xmax = 30, colors= 'r', linestyles=\"--\")"
   ]
  },
  {
   "cell_type": "markdown",
   "id": "c8c8f70c",
   "metadata": {
    "id": "c8c8f70c"
   },
   "source": [
    "### Scores by Various K Values\n",
    "* Select some k values smaller and bigger than the optimal k value to see how the model performs."
   ]
  },
  {
   "cell_type": "code",
   "execution_count": 80,
   "id": "9be370e2",
   "metadata": {},
   "outputs": [
    {
     "name": "stdout",
     "output_type": "stream",
     "text": [
      "Test_Set\n",
      "[[81  9]\n",
      " [16 74]]\n",
      "              precision    recall  f1-score   support\n",
      "\n",
      "           0       0.84      0.90      0.87        90\n",
      "           1       0.89      0.82      0.86        90\n",
      "\n",
      "    accuracy                           0.86       180\n",
      "   macro avg       0.86      0.86      0.86       180\n",
      "weighted avg       0.86      0.86      0.86       180\n",
      "\n",
      "\n",
      "Train_Set\n",
      "[[330  28]\n",
      " [ 53 307]]\n",
      "              precision    recall  f1-score   support\n",
      "\n",
      "           0       0.86      0.92      0.89       358\n",
      "           1       0.92      0.85      0.88       360\n",
      "\n",
      "    accuracy                           0.89       718\n",
      "   macro avg       0.89      0.89      0.89       718\n",
      "weighted avg       0.89      0.89      0.89       718\n",
      "\n"
     ]
    }
   ],
   "source": [
    "pipe_elbow = Pipeline(steps = [(\"scaler\",scaler),(\"elbow\",KNeighborsClassifier(n_neighbors=5))])\n",
    "pipe_elbow.fit(X_train,y_train)\n",
    "\n",
    "eval_metric(pipe_elbow, X_train, y_train, X_test, y_test)"
   ]
  },
  {
   "cell_type": "code",
   "execution_count": 82,
   "id": "d0523ed7",
   "metadata": {},
   "outputs": [
    {
     "name": "stdout",
     "output_type": "stream",
     "text": [
      "Test_Set\n",
      "[[82  8]\n",
      " [16 74]]\n",
      "              precision    recall  f1-score   support\n",
      "\n",
      "           0       0.84      0.91      0.87        90\n",
      "           1       0.90      0.82      0.86        90\n",
      "\n",
      "    accuracy                           0.87       180\n",
      "   macro avg       0.87      0.87      0.87       180\n",
      "weighted avg       0.87      0.87      0.87       180\n",
      "\n",
      "\n",
      "Train_Set\n",
      "[[325  33]\n",
      " [ 58 302]]\n",
      "              precision    recall  f1-score   support\n",
      "\n",
      "           0       0.85      0.91      0.88       358\n",
      "           1       0.90      0.84      0.87       360\n",
      "\n",
      "    accuracy                           0.87       718\n",
      "   macro avg       0.88      0.87      0.87       718\n",
      "weighted avg       0.88      0.87      0.87       718\n",
      "\n"
     ]
    }
   ],
   "source": [
    "pipe_elbow = Pipeline(steps = [(\"scaler\",scaler),(\"elbow\",KNeighborsClassifier(n_neighbors=21))])\n",
    "pipe_elbow.fit(X_train,y_train)\n",
    "\n",
    "eval_metric(pipe_elbow, X_train, y_train, X_test, y_test)\n",
    "                    "
   ]
  },
  {
   "cell_type": "markdown",
   "id": "cdcce784",
   "metadata": {
    "id": "cdcce784"
   },
   "source": [
    "### Cross Validate\n",
    "* Use the cross_val_score function to evaluate the model using the train set. Use optimal k value which you found in the elbow method."
   ]
  },
  {
   "cell_type": "code",
   "execution_count": 83,
   "id": "8b902160",
   "metadata": {
    "id": "8b902160"
   },
   "outputs": [],
   "source": [
    "from sklearn.model_selection import cross_val_score, cross_validate"
   ]
  },
  {
   "cell_type": "code",
   "execution_count": 86,
   "id": "97c56944",
   "metadata": {},
   "outputs": [
    {
     "data": {
      "text/html": [
       "<div>\n",
       "<style scoped>\n",
       "    .dataframe tbody tr th:only-of-type {\n",
       "        vertical-align: middle;\n",
       "    }\n",
       "\n",
       "    .dataframe tbody tr th {\n",
       "        vertical-align: top;\n",
       "    }\n",
       "\n",
       "    .dataframe thead th {\n",
       "        text-align: right;\n",
       "    }\n",
       "</style>\n",
       "<table border=\"1\" class=\"dataframe\">\n",
       "  <thead>\n",
       "    <tr style=\"text-align: right;\">\n",
       "      <th></th>\n",
       "      <th>fit_time</th>\n",
       "      <th>score_time</th>\n",
       "      <th>test_accuracy</th>\n",
       "      <th>test_precision</th>\n",
       "      <th>test_recall</th>\n",
       "      <th>test_f1</th>\n",
       "    </tr>\n",
       "  </thead>\n",
       "  <tbody>\n",
       "    <tr>\n",
       "      <th>1</th>\n",
       "      <td>0.011991</td>\n",
       "      <td>0.012993</td>\n",
       "      <td>0.875000</td>\n",
       "      <td>0.935484</td>\n",
       "      <td>0.805556</td>\n",
       "      <td>0.865672</td>\n",
       "    </tr>\n",
       "    <tr>\n",
       "      <th>2</th>\n",
       "      <td>0.009989</td>\n",
       "      <td>0.011988</td>\n",
       "      <td>0.833333</td>\n",
       "      <td>0.875000</td>\n",
       "      <td>0.777778</td>\n",
       "      <td>0.823529</td>\n",
       "    </tr>\n",
       "    <tr>\n",
       "      <th>3</th>\n",
       "      <td>0.005995</td>\n",
       "      <td>0.022986</td>\n",
       "      <td>0.833333</td>\n",
       "      <td>0.833333</td>\n",
       "      <td>0.833333</td>\n",
       "      <td>0.833333</td>\n",
       "    </tr>\n",
       "    <tr>\n",
       "      <th>4</th>\n",
       "      <td>0.006934</td>\n",
       "      <td>0.011995</td>\n",
       "      <td>0.847222</td>\n",
       "      <td>0.878788</td>\n",
       "      <td>0.805556</td>\n",
       "      <td>0.840580</td>\n",
       "    </tr>\n",
       "    <tr>\n",
       "      <th>5</th>\n",
       "      <td>0.005996</td>\n",
       "      <td>0.009993</td>\n",
       "      <td>0.861111</td>\n",
       "      <td>0.964286</td>\n",
       "      <td>0.750000</td>\n",
       "      <td>0.843750</td>\n",
       "    </tr>\n",
       "    <tr>\n",
       "      <th>6</th>\n",
       "      <td>0.005997</td>\n",
       "      <td>0.002046</td>\n",
       "      <td>0.819444</td>\n",
       "      <td>0.848485</td>\n",
       "      <td>0.777778</td>\n",
       "      <td>0.811594</td>\n",
       "    </tr>\n",
       "    <tr>\n",
       "      <th>7</th>\n",
       "      <td>0.000000</td>\n",
       "      <td>0.015634</td>\n",
       "      <td>0.944444</td>\n",
       "      <td>0.970588</td>\n",
       "      <td>0.916667</td>\n",
       "      <td>0.942857</td>\n",
       "    </tr>\n",
       "    <tr>\n",
       "      <th>8</th>\n",
       "      <td>0.000000</td>\n",
       "      <td>0.015637</td>\n",
       "      <td>0.763889</td>\n",
       "      <td>0.756757</td>\n",
       "      <td>0.777778</td>\n",
       "      <td>0.767123</td>\n",
       "    </tr>\n",
       "    <tr>\n",
       "      <th>9</th>\n",
       "      <td>0.000000</td>\n",
       "      <td>0.015627</td>\n",
       "      <td>0.873239</td>\n",
       "      <td>0.909091</td>\n",
       "      <td>0.833333</td>\n",
       "      <td>0.869565</td>\n",
       "    </tr>\n",
       "    <tr>\n",
       "      <th>10</th>\n",
       "      <td>0.000000</td>\n",
       "      <td>0.015623</td>\n",
       "      <td>0.845070</td>\n",
       "      <td>0.903226</td>\n",
       "      <td>0.777778</td>\n",
       "      <td>0.835821</td>\n",
       "    </tr>\n",
       "  </tbody>\n",
       "</table>\n",
       "</div>"
      ],
      "text/plain": [
       "    fit_time  score_time  test_accuracy  test_precision  test_recall   test_f1\n",
       "1   0.011991    0.012993       0.875000        0.935484     0.805556  0.865672\n",
       "2   0.009989    0.011988       0.833333        0.875000     0.777778  0.823529\n",
       "3   0.005995    0.022986       0.833333        0.833333     0.833333  0.833333\n",
       "4   0.006934    0.011995       0.847222        0.878788     0.805556  0.840580\n",
       "5   0.005996    0.009993       0.861111        0.964286     0.750000  0.843750\n",
       "6   0.005997    0.002046       0.819444        0.848485     0.777778  0.811594\n",
       "7   0.000000    0.015634       0.944444        0.970588     0.916667  0.942857\n",
       "8   0.000000    0.015637       0.763889        0.756757     0.777778  0.767123\n",
       "9   0.000000    0.015627       0.873239        0.909091     0.833333  0.869565\n",
       "10  0.000000    0.015623       0.845070        0.903226     0.777778  0.835821"
      ]
     },
     "execution_count": 86,
     "metadata": {},
     "output_type": "execute_result"
    }
   ],
   "source": [
    "pipe_knn = Pipeline(steps = [(\"scaler\",scaler),(\"knn\",KNeighborsClassifier(n_neighbors=5))])\n",
    "\n",
    "scores = cross_validate(pipe_knn, X_train, y_train, scoring = ['accuracy', 'precision','recall',\n",
    "                                                                   'f1'], cv = 10)\n",
    "df_scores = pd.DataFrame(scores, index = range(1, 11))\n",
    "df_scores"
   ]
  },
  {
   "cell_type": "code",
   "execution_count": 87,
   "id": "15c301e3",
   "metadata": {},
   "outputs": [
    {
     "data": {
      "text/plain": [
       "test_accuracy     0.849609\n",
       "test_precision    0.887504\n",
       "test_recall       0.805556\n",
       "test_f1           0.843382\n",
       "dtype: float64"
      ]
     },
     "execution_count": 87,
     "metadata": {},
     "output_type": "execute_result"
    }
   ],
   "source": [
    "df_scores.mean()[2:]"
   ]
  },
  {
   "cell_type": "code",
   "execution_count": 88,
   "id": "ecf01a0f",
   "metadata": {},
   "outputs": [
    {
     "data": {
      "text/html": [
       "<div>\n",
       "<style scoped>\n",
       "    .dataframe tbody tr th:only-of-type {\n",
       "        vertical-align: middle;\n",
       "    }\n",
       "\n",
       "    .dataframe tbody tr th {\n",
       "        vertical-align: top;\n",
       "    }\n",
       "\n",
       "    .dataframe thead th {\n",
       "        text-align: right;\n",
       "    }\n",
       "</style>\n",
       "<table border=\"1\" class=\"dataframe\">\n",
       "  <thead>\n",
       "    <tr style=\"text-align: right;\">\n",
       "      <th></th>\n",
       "      <th>fit_time</th>\n",
       "      <th>score_time</th>\n",
       "      <th>test_accuracy</th>\n",
       "      <th>test_precision</th>\n",
       "      <th>test_recall</th>\n",
       "      <th>test_f1</th>\n",
       "    </tr>\n",
       "  </thead>\n",
       "  <tbody>\n",
       "    <tr>\n",
       "      <th>1</th>\n",
       "      <td>0.014010</td>\n",
       "      <td>0.013971</td>\n",
       "      <td>0.875000</td>\n",
       "      <td>0.909091</td>\n",
       "      <td>0.833333</td>\n",
       "      <td>0.869565</td>\n",
       "    </tr>\n",
       "    <tr>\n",
       "      <th>2</th>\n",
       "      <td>0.009993</td>\n",
       "      <td>0.012995</td>\n",
       "      <td>0.861111</td>\n",
       "      <td>0.933333</td>\n",
       "      <td>0.777778</td>\n",
       "      <td>0.848485</td>\n",
       "    </tr>\n",
       "    <tr>\n",
       "      <th>3</th>\n",
       "      <td>0.016013</td>\n",
       "      <td>0.020012</td>\n",
       "      <td>0.805556</td>\n",
       "      <td>0.805556</td>\n",
       "      <td>0.805556</td>\n",
       "      <td>0.805556</td>\n",
       "    </tr>\n",
       "    <tr>\n",
       "      <th>4</th>\n",
       "      <td>0.005997</td>\n",
       "      <td>0.007512</td>\n",
       "      <td>0.819444</td>\n",
       "      <td>0.828571</td>\n",
       "      <td>0.805556</td>\n",
       "      <td>0.816901</td>\n",
       "    </tr>\n",
       "    <tr>\n",
       "      <th>5</th>\n",
       "      <td>0.000000</td>\n",
       "      <td>0.015646</td>\n",
       "      <td>0.875000</td>\n",
       "      <td>0.965517</td>\n",
       "      <td>0.777778</td>\n",
       "      <td>0.861538</td>\n",
       "    </tr>\n",
       "    <tr>\n",
       "      <th>6</th>\n",
       "      <td>0.000000</td>\n",
       "      <td>0.015622</td>\n",
       "      <td>0.819444</td>\n",
       "      <td>0.870968</td>\n",
       "      <td>0.750000</td>\n",
       "      <td>0.805970</td>\n",
       "    </tr>\n",
       "    <tr>\n",
       "      <th>7</th>\n",
       "      <td>0.000000</td>\n",
       "      <td>0.015626</td>\n",
       "      <td>0.944444</td>\n",
       "      <td>0.944444</td>\n",
       "      <td>0.944444</td>\n",
       "      <td>0.944444</td>\n",
       "    </tr>\n",
       "    <tr>\n",
       "      <th>8</th>\n",
       "      <td>0.000000</td>\n",
       "      <td>0.015602</td>\n",
       "      <td>0.833333</td>\n",
       "      <td>0.852941</td>\n",
       "      <td>0.805556</td>\n",
       "      <td>0.828571</td>\n",
       "    </tr>\n",
       "    <tr>\n",
       "      <th>9</th>\n",
       "      <td>0.000000</td>\n",
       "      <td>0.015624</td>\n",
       "      <td>0.887324</td>\n",
       "      <td>0.888889</td>\n",
       "      <td>0.888889</td>\n",
       "      <td>0.888889</td>\n",
       "    </tr>\n",
       "    <tr>\n",
       "      <th>10</th>\n",
       "      <td>0.000000</td>\n",
       "      <td>0.015623</td>\n",
       "      <td>0.887324</td>\n",
       "      <td>0.937500</td>\n",
       "      <td>0.833333</td>\n",
       "      <td>0.882353</td>\n",
       "    </tr>\n",
       "  </tbody>\n",
       "</table>\n",
       "</div>"
      ],
      "text/plain": [
       "    fit_time  score_time  test_accuracy  test_precision  test_recall   test_f1\n",
       "1   0.014010    0.013971       0.875000        0.909091     0.833333  0.869565\n",
       "2   0.009993    0.012995       0.861111        0.933333     0.777778  0.848485\n",
       "3   0.016013    0.020012       0.805556        0.805556     0.805556  0.805556\n",
       "4   0.005997    0.007512       0.819444        0.828571     0.805556  0.816901\n",
       "5   0.000000    0.015646       0.875000        0.965517     0.777778  0.861538\n",
       "6   0.000000    0.015622       0.819444        0.870968     0.750000  0.805970\n",
       "7   0.000000    0.015626       0.944444        0.944444     0.944444  0.944444\n",
       "8   0.000000    0.015602       0.833333        0.852941     0.805556  0.828571\n",
       "9   0.000000    0.015624       0.887324        0.888889     0.888889  0.888889\n",
       "10  0.000000    0.015623       0.887324        0.937500     0.833333  0.882353"
      ]
     },
     "execution_count": 88,
     "metadata": {},
     "output_type": "execute_result"
    }
   ],
   "source": [
    "pipe_knn = Pipeline(steps = [(\"scaler\",scaler),(\"knn\",KNeighborsClassifier(n_neighbors=21))])\n",
    "\n",
    "scores = cross_validate(pipe_knn, X_train, y_train, scoring = ['accuracy', 'precision','recall',\n",
    "                                                                   'f1'], cv = 10)\n",
    "df_scores = pd.DataFrame(scores, index = range(1, 11))\n",
    "df_scores"
   ]
  },
  {
   "cell_type": "code",
   "execution_count": 89,
   "id": "a11e11b8",
   "metadata": {},
   "outputs": [
    {
     "data": {
      "text/plain": [
       "test_accuracy     0.860798\n",
       "test_precision    0.893681\n",
       "test_recall       0.822222\n",
       "test_f1           0.855227\n",
       "dtype: float64"
      ]
     },
     "execution_count": 89,
     "metadata": {},
     "output_type": "execute_result"
    }
   ],
   "source": [
    "df_scores.mean()[2:]"
   ]
  },
  {
   "cell_type": "markdown",
   "id": "6c4a1f44",
   "metadata": {
    "id": "6c4a1f44"
   },
   "source": [
    "\n",
    "### Gridsearch Method for Choosing Reasonable K Values\n",
    "* Use the GridSearchCV function to find the best parameters for the model. this method is brute force method to find the best parameters, and it takes a long time to run for KNN. You will get different k values because of you will use different parameters, and also gridsearch method tries to find minimum error. Sometimes it get larger k values for optimal but for  sake of reduce complexity we use the elbow method to find the optimal k value."
   ]
  },
  {
   "cell_type": "code",
   "execution_count": 90,
   "id": "9ab85c3f",
   "metadata": {
    "id": "9ab85c3f"
   },
   "outputs": [],
   "source": [
    "from sklearn.model_selection import GridSearchCV"
   ]
  },
  {
   "cell_type": "code",
   "execution_count": 91,
   "id": "d4552301",
   "metadata": {},
   "outputs": [
    {
     "data": {
      "text/plain": [
       "{'memory': None,\n",
       " 'steps': [('scaler', StandardScaler()),\n",
       "  ('knn', KNeighborsClassifier(n_neighbors=21))],\n",
       " 'verbose': False,\n",
       " 'scaler': StandardScaler(),\n",
       " 'knn': KNeighborsClassifier(n_neighbors=21),\n",
       " 'scaler__copy': True,\n",
       " 'scaler__with_mean': True,\n",
       " 'scaler__with_std': True,\n",
       " 'knn__algorithm': 'auto',\n",
       " 'knn__leaf_size': 30,\n",
       " 'knn__metric': 'minkowski',\n",
       " 'knn__metric_params': None,\n",
       " 'knn__n_jobs': None,\n",
       " 'knn__n_neighbors': 21,\n",
       " 'knn__p': 2,\n",
       " 'knn__weights': 'uniform'}"
      ]
     },
     "execution_count": 91,
     "metadata": {},
     "output_type": "execute_result"
    }
   ],
   "source": [
    "pipe_knn.get_params()"
   ]
  },
  {
   "cell_type": "code",
   "execution_count": 92,
   "id": "8d14ae32",
   "metadata": {},
   "outputs": [],
   "source": [
    "param_grid = { \"knn__p\" : [1,2],\n",
    "              \"knn__n_neighbors\" : range(1,30),\n",
    "              \"knn__weights\" : ['uniform', 'distance']\n",
    "    }"
   ]
  },
  {
   "cell_type": "code",
   "execution_count": 93,
   "id": "2bbc4199",
   "metadata": {},
   "outputs": [
    {
     "data": {
      "text/plain": [
       "{'knn__n_neighbors': 28, 'knn__p': 2, 'knn__weights': 'uniform'}"
      ]
     },
     "execution_count": 93,
     "metadata": {},
     "output_type": "execute_result"
    }
   ],
   "source": [
    "pipe_grid = GridSearchCV(pipe_knn, param_grid, cv=10, scoring= 'f1')\n",
    "\n",
    "pipe_grid.fit(X_train,y_train)\n",
    "\n",
    "pipe_grid.best_params_"
   ]
  },
  {
   "cell_type": "code",
   "execution_count": 94,
   "id": "6a000dba",
   "metadata": {},
   "outputs": [
    {
     "name": "stdout",
     "output_type": "stream",
     "text": [
      "Test_Set\n",
      "[[81  9]\n",
      " [16 74]]\n",
      "              precision    recall  f1-score   support\n",
      "\n",
      "           0       0.84      0.90      0.87        90\n",
      "           1       0.89      0.82      0.86        90\n",
      "\n",
      "    accuracy                           0.86       180\n",
      "   macro avg       0.86      0.86      0.86       180\n",
      "weighted avg       0.86      0.86      0.86       180\n",
      "\n",
      "\n",
      "Train_Set\n",
      "[[327  31]\n",
      " [ 63 297]]\n",
      "              precision    recall  f1-score   support\n",
      "\n",
      "           0       0.84      0.91      0.87       358\n",
      "           1       0.91      0.82      0.86       360\n",
      "\n",
      "    accuracy                           0.87       718\n",
      "   macro avg       0.87      0.87      0.87       718\n",
      "weighted avg       0.87      0.87      0.87       718\n",
      "\n"
     ]
    }
   ],
   "source": [
    "eval_metric(pipe_grid, X_train, y_train, X_test, y_test)"
   ]
  },
  {
   "cell_type": "markdown",
   "id": "b4d9aebd",
   "metadata": {
    "id": "b4d9aebd"
   },
   "source": [
    "### Evaluating ROC Curves and AUC\n",
    "*Use the roc_curve function to calculate the ROC curve and compare KNN models with default and tuned parameters."
   ]
  },
  {
   "cell_type": "code",
   "execution_count": 95,
   "id": "28981c26",
   "metadata": {
    "id": "28981c26"
   },
   "outputs": [
    {
     "data": {
      "image/png": "[encoded data removed]",
      "text/plain": [
       "<Figure size 576x396 with 1 Axes>"
      ]
     },
     "metadata": {},
     "output_type": "display_data"
    }
   ],
   "source": [
    "pipe_knn = Pipeline(steps = [(\"scaler\",scaler),(\"knn\",KNeighborsClassifier(n_neighbors=12))])\n",
    "pipe_knn.fit(X_train, y_train)\n",
    "plot_roc_curve(pipe_knn, X_test, y_test);"
   ]
  },
  {
   "cell_type": "code",
   "execution_count": 96,
   "id": "c83eaf3f",
   "metadata": {},
   "outputs": [
    {
     "data": {
      "image/png": "[encoded data removed]",
      "text/plain": [
       "<Figure size 576x396 with 1 Axes>"
      ]
     },
     "metadata": {},
     "output_type": "display_data"
    }
   ],
   "source": [
    "plot_roc_curve(pipe_grid,X_test, y_test);"
   ]
  },
  {
   "cell_type": "code",
   "execution_count": null,
   "id": "c920831d",
   "metadata": {},
   "outputs": [],
   "source": []
  },
  {
   "cell_type": "markdown",
   "id": "071c5b20",
   "metadata": {},
   "source": [
    "## SVM"
   ]
  },
  {
   "cell_type": "code",
   "execution_count": 97,
   "id": "2cea7859",
   "metadata": {},
   "outputs": [
    {
     "name": "stdout",
     "output_type": "stream",
     "text": [
      "Test_Set\n",
      "[[82  8]\n",
      " [15 75]]\n",
      "              precision    recall  f1-score   support\n",
      "\n",
      "           0       0.85      0.91      0.88        90\n",
      "           1       0.90      0.83      0.87        90\n",
      "\n",
      "    accuracy                           0.87       180\n",
      "   macro avg       0.87      0.87      0.87       180\n",
      "weighted avg       0.87      0.87      0.87       180\n",
      "\n",
      "\n",
      "Train_Set\n",
      "[[327  31]\n",
      " [ 59 301]]\n",
      "              precision    recall  f1-score   support\n",
      "\n",
      "           0       0.85      0.91      0.88       358\n",
      "           1       0.91      0.84      0.87       360\n",
      "\n",
      "    accuracy                           0.87       718\n",
      "   macro avg       0.88      0.87      0.87       718\n",
      "weighted avg       0.88      0.87      0.87       718\n",
      "\n"
     ]
    }
   ],
   "source": [
    "from sklearn.svm import SVC\n",
    "from sklearn.preprocessing import StandardScaler\n",
    "from sklearn.pipeline import Pipeline\n",
    "\n",
    "model_svc = SVC()\n",
    "operations = [(\"scaler\", StandardScaler()), (\"SVC\", model_svc)]\n",
    "pipe_svc = Pipeline(steps=operations)\n",
    "pipe_svc.fit(X_train, y_train)\n",
    "eval_metric(pipe_svc, X_train, y_train, X_test, y_test)"
   ]
  },
  {
   "cell_type": "markdown",
   "id": "78c37ff2",
   "metadata": {},
   "source": [
    "### Cross Validation"
   ]
  },
  {
   "cell_type": "code",
   "execution_count": 98,
   "id": "ff1db892",
   "metadata": {},
   "outputs": [
    {
     "data": {
      "text/plain": [
       "test_accuracy     0.871929\n",
       "test_precision    0.905454\n",
       "test_recall       0.833333\n",
       "test_f1           0.866942\n",
       "dtype: float64"
      ]
     },
     "execution_count": 98,
     "metadata": {},
     "output_type": "execute_result"
    }
   ],
   "source": [
    "from sklearn.model_selection import cross_validate\n",
    "\n",
    "scores = cross_validate(pipe_svc, X_train, y_train, scoring = ['accuracy', 'precision','recall','f1'], cv = 10)\n",
    "df_scores = pd.DataFrame(scores, index = range(1, 11))\n",
    "df_scores.mean()[2:]"
   ]
  },
  {
   "cell_type": "markdown",
   "id": "96d5cd72",
   "metadata": {},
   "source": [
    "### Grid Search"
   ]
  },
  {
   "cell_type": "code",
   "execution_count": 101,
   "id": "bcba3828",
   "metadata": {},
   "outputs": [
    {
     "data": {
      "text/plain": [
       "{'memory': None,\n",
       " 'steps': [('scaler', StandardScaler()), ('SVC', SVC())],\n",
       " 'verbose': False,\n",
       " 'scaler': StandardScaler(),\n",
       " 'SVC': SVC(),\n",
       " 'scaler__copy': True,\n",
       " 'scaler__with_mean': True,\n",
       " 'scaler__with_std': True,\n",
       " 'SVC__C': 1.0,\n",
       " 'SVC__break_ties': False,\n",
       " 'SVC__cache_size': 200,\n",
       " 'SVC__class_weight': None,\n",
       " 'SVC__coef0': 0.0,\n",
       " 'SVC__decision_function_shape': 'ovr',\n",
       " 'SVC__degree': 3,\n",
       " 'SVC__gamma': 'scale',\n",
       " 'SVC__kernel': 'rbf',\n",
       " 'SVC__max_iter': -1,\n",
       " 'SVC__probability': False,\n",
       " 'SVC__random_state': None,\n",
       " 'SVC__shrinking': True,\n",
       " 'SVC__tol': 0.001,\n",
       " 'SVC__verbose': False}"
      ]
     },
     "execution_count": 101,
     "metadata": {},
     "output_type": "execute_result"
    }
   ],
   "source": [
    "pipe_svc.get_params()"
   ]
  },
  {
   "cell_type": "code",
   "execution_count": 102,
   "id": "a4f30260",
   "metadata": {},
   "outputs": [],
   "source": [
    "from sklearn.model_selection import GridSearchCV\n",
    "\n",
    "#C arttıkça overfit olma ihtimali artıyor\n",
    "\n",
    "param_grid = {'SVC__C': [0.001, 0.05, 0.01, 0.1, 0.3, 0.5],\n",
    "              'SVC__gamma': [\"scale\", \"auto\", 0.2, 0.3],\n",
    "              'SVC__kernel': ['linear', 'poly', 'rbf', 'sigmoid'],\n",
    "                \"SVC__probability\" : [True]}"
   ]
  },
  {
   "cell_type": "code",
   "execution_count": 103,
   "id": "5b533955",
   "metadata": {},
   "outputs": [
    {
     "data": {
      "text/plain": [
       "GridSearchCV(cv=10,\n",
       "             estimator=Pipeline(steps=[('scaler', StandardScaler()),\n",
       "                                       ('SVC', SVC())]),\n",
       "             param_grid={'SVC__C': [0.001, 0.05, 0.01, 0.1, 0.3, 0.5],\n",
       "                         'SVC__gamma': ['scale', 'auto', 0.2, 0.3],\n",
       "                         'SVC__kernel': ['linear', 'poly', 'rbf', 'sigmoid'],\n",
       "                         'SVC__probability': [True]},\n",
       "             scoring='f1')"
      ]
     },
     "execution_count": 103,
     "metadata": {},
     "output_type": "execute_result"
    }
   ],
   "source": [
    "#Balanced olması recall artırmak için, özellikle imbalanced datalarda kullanılıyor\n",
    "svm_model_grid = GridSearchCV(pipe_svc, param_grid, scoring=\"f1\", cv=10)\n",
    "\n",
    "svm_model_grid.fit(X_train, y_train)"
   ]
  },
  {
   "cell_type": "code",
   "execution_count": 104,
   "id": "b6e5c93f",
   "metadata": {},
   "outputs": [
    {
     "data": {
      "text/plain": [
       "{'SVC__C': 0.1,\n",
       " 'SVC__gamma': 0.2,\n",
       " 'SVC__kernel': 'sigmoid',\n",
       " 'SVC__probability': True}"
      ]
     },
     "execution_count": 104,
     "metadata": {},
     "output_type": "execute_result"
    }
   ],
   "source": [
    "svm_model_grid.best_params_"
   ]
  },
  {
   "cell_type": "code",
   "execution_count": 105,
   "id": "df0cf41b",
   "metadata": {},
   "outputs": [
    {
     "name": "stdout",
     "output_type": "stream",
     "text": [
      "Test_Set\n",
      "[[81  9]\n",
      " [15 75]]\n",
      "              precision    recall  f1-score   support\n",
      "\n",
      "           0       0.84      0.90      0.87        90\n",
      "           1       0.89      0.83      0.86        90\n",
      "\n",
      "    accuracy                           0.87       180\n",
      "   macro avg       0.87      0.87      0.87       180\n",
      "weighted avg       0.87      0.87      0.87       180\n",
      "\n",
      "\n",
      "Train_Set\n",
      "[[313  45]\n",
      " [ 52 308]]\n",
      "              precision    recall  f1-score   support\n",
      "\n",
      "           0       0.86      0.87      0.87       358\n",
      "           1       0.87      0.86      0.86       360\n",
      "\n",
      "    accuracy                           0.86       718\n",
      "   macro avg       0.87      0.86      0.86       718\n",
      "weighted avg       0.87      0.86      0.86       718\n",
      "\n"
     ]
    }
   ],
   "source": [
    "eval_metric(svm_model_grid, X_train, y_train, X_test, y_test)"
   ]
  },
  {
   "cell_type": "code",
   "execution_count": 107,
   "id": "3eb765a9",
   "metadata": {},
   "outputs": [
    {
     "data": {
      "text/plain": [
       "array([[9.72595028e-01, 2.74049724e-02],\n",
       "       [3.18275145e-01, 6.81724855e-01],\n",
       "       [2.12754909e-01, 7.87245091e-01],\n",
       "       [9.82883687e-01, 1.71163127e-02],\n",
       "       [4.89808177e-02, 9.51019182e-01],\n",
       "       [9.44620324e-01, 5.53796764e-02],\n",
       "       [1.59088848e-02, 9.84091115e-01],\n",
       "       [7.12324190e-01, 2.87675810e-01],\n",
       "       [9.48932772e-01, 5.10672283e-02],\n",
       "       [9.47968752e-01, 5.20312478e-02],\n",
       "       [4.75429763e-01, 5.24570237e-01],\n",
       "       [9.79703235e-01, 2.02967653e-02],\n",
       "       [9.75218641e-01, 2.47813587e-02],\n",
       "       [9.24367147e-01, 7.56328534e-02],\n",
       "       [6.37141960e-07, 9.99999363e-01],\n",
       "       [9.42629184e-01, 5.73708159e-02],\n",
       "       [2.12232872e-06, 9.99997878e-01],\n",
       "       [8.41885986e-01, 1.58114014e-01],\n",
       "       [8.96208245e-01, 1.03791755e-01],\n",
       "       [4.19838607e-03, 9.95801614e-01],\n",
       "       [9.72076304e-01, 2.79236964e-02],\n",
       "       [9.14672211e-01, 8.53277888e-02],\n",
       "       [8.74823087e-01, 1.25176913e-01],\n",
       "       [9.55836117e-01, 4.41638831e-02],\n",
       "       [9.89502714e-01, 1.04972860e-02],\n",
       "       [4.06217299e-01, 5.93782701e-01],\n",
       "       [1.07308901e-02, 9.89269110e-01],\n",
       "       [1.51672395e-01, 8.48327605e-01],\n",
       "       [7.10966090e-01, 2.89033910e-01],\n",
       "       [8.85196218e-01, 1.14803782e-01],\n",
       "       [3.04714337e-06, 9.99996953e-01],\n",
       "       [9.87402488e-01, 1.25975121e-02],\n",
       "       [8.48067908e-01, 1.51932092e-01],\n",
       "       [9.14385433e-03, 9.90856146e-01],\n",
       "       [5.79068488e-06, 9.99994209e-01],\n",
       "       [6.55882716e-01, 3.44117284e-01],\n",
       "       [9.45999824e-01, 5.40001763e-02],\n",
       "       [7.92385158e-01, 2.07614842e-01],\n",
       "       [8.75696749e-01, 1.24303251e-01],\n",
       "       [5.12727521e-01, 4.87272479e-01],\n",
       "       [3.76179552e-03, 9.96238204e-01],\n",
       "       [3.29337505e-10, 1.00000000e+00],\n",
       "       [3.63766058e-01, 6.36233942e-01],\n",
       "       [5.90683936e-01, 4.09316064e-01],\n",
       "       [8.48075625e-01, 1.51924375e-01],\n",
       "       [8.85539055e-01, 1.14460945e-01],\n",
       "       [6.84760562e-01, 3.15239438e-01],\n",
       "       [9.33680861e-01, 6.63191391e-02],\n",
       "       [9.97456297e-01, 2.54370340e-03],\n",
       "       [8.26794772e-01, 1.73205228e-01],\n",
       "       [3.32044099e-03, 9.96679559e-01],\n",
       "       [7.19696219e-01, 2.80303781e-01],\n",
       "       [8.34821135e-01, 1.65178865e-01],\n",
       "       [7.61428030e-03, 9.92385720e-01],\n",
       "       [4.51542981e-01, 5.48457019e-01],\n",
       "       [9.89010781e-01, 1.09892192e-02],\n",
       "       [3.88822793e-01, 6.11177207e-01],\n",
       "       [4.99391816e-02, 9.50060818e-01],\n",
       "       [7.89578826e-01, 2.10421174e-01],\n",
       "       [4.79403827e-01, 5.20596173e-01],\n",
       "       [7.19634483e-02, 9.28036552e-01],\n",
       "       [9.13736130e-01, 8.62638705e-02],\n",
       "       [5.44318671e-03, 9.94556813e-01],\n",
       "       [3.93579381e-01, 6.06420619e-01],\n",
       "       [9.73734814e-01, 2.62651863e-02],\n",
       "       [6.84975894e-01, 3.15024106e-01],\n",
       "       [7.87114269e-01, 2.12885731e-01],\n",
       "       [2.93132164e-02, 9.70686784e-01],\n",
       "       [2.47445322e-01, 7.52554678e-01],\n",
       "       [3.17544691e-01, 6.82455309e-01],\n",
       "       [9.90023641e-01, 9.97635904e-03],\n",
       "       [5.10233466e-01, 4.89766534e-01],\n",
       "       [3.17615889e-02, 9.68238411e-01],\n",
       "       [1.33266398e-01, 8.66733602e-01],\n",
       "       [7.12703081e-01, 2.87296919e-01],\n",
       "       [9.10912316e-01, 8.90876841e-02],\n",
       "       [1.39126893e-02, 9.86087311e-01],\n",
       "       [9.80395886e-01, 1.96041144e-02],\n",
       "       [2.32456302e-02, 9.76754370e-01],\n",
       "       [9.79890043e-01, 2.01099567e-02],\n",
       "       [3.01316327e-02, 9.69868367e-01],\n",
       "       [6.65857285e-01, 3.34142715e-01],\n",
       "       [9.56365968e-01, 4.36340318e-02],\n",
       "       [4.40004546e-01, 5.59995454e-01],\n",
       "       [2.53830512e-01, 7.46169488e-01],\n",
       "       [7.55588239e-01, 2.44411761e-01],\n",
       "       [2.25318550e-02, 9.77468145e-01],\n",
       "       [1.19133768e-02, 9.88086623e-01],\n",
       "       [9.89587905e-01, 1.04120950e-02],\n",
       "       [1.53603549e-02, 9.84639645e-01],\n",
       "       [7.97116252e-01, 2.02883748e-01],\n",
       "       [2.72032990e-01, 7.27967010e-01],\n",
       "       [7.80043559e-01, 2.19956441e-01],\n",
       "       [9.54482249e-01, 4.55177506e-02],\n",
       "       [1.56961744e-01, 8.43038256e-01],\n",
       "       [1.20029245e-05, 9.99987997e-01],\n",
       "       [9.58871309e-01, 4.11286913e-02],\n",
       "       [2.53322455e-03, 9.97466775e-01],\n",
       "       [9.54368091e-01, 4.56319093e-02],\n",
       "       [5.08720157e-01, 4.91279843e-01],\n",
       "       [9.49055879e-01, 5.09441213e-02],\n",
       "       [4.99179075e-02, 9.50082092e-01],\n",
       "       [9.11292018e-06, 9.99990887e-01],\n",
       "       [9.46293809e-01, 5.37061906e-02],\n",
       "       [2.37525698e-02, 9.76247430e-01],\n",
       "       [9.42511591e-01, 5.74884095e-02],\n",
       "       [9.98582910e-01, 1.41709043e-03],\n",
       "       [3.66203499e-03, 9.96337965e-01],\n",
       "       [8.26274064e-06, 9.99991737e-01],\n",
       "       [9.29084673e-01, 7.09153271e-02],\n",
       "       [7.20741297e-03, 9.92792587e-01],\n",
       "       [2.46935185e-02, 9.75306482e-01],\n",
       "       [1.23121202e-02, 9.87687880e-01],\n",
       "       [6.88905418e-02, 9.31109458e-01],\n",
       "       [9.98518921e-01, 1.48107889e-03],\n",
       "       [1.03703126e-01, 8.96296874e-01],\n",
       "       [7.45104074e-02, 9.25489593e-01],\n",
       "       [2.88223003e-06, 9.99997118e-01],\n",
       "       [3.37945724e-01, 6.62054276e-01],\n",
       "       [9.96054701e-01, 3.94529874e-03],\n",
       "       [8.89086553e-01, 1.10913447e-01],\n",
       "       [1.73658285e-01, 8.26341715e-01],\n",
       "       [7.29826945e-01, 2.70173055e-01],\n",
       "       [1.15130821e-01, 8.84869179e-01],\n",
       "       [3.78533110e-02, 9.62146689e-01],\n",
       "       [8.01321368e-01, 1.98678632e-01],\n",
       "       [9.57340971e-01, 4.26590288e-02],\n",
       "       [7.77285772e-01, 2.22714228e-01],\n",
       "       [7.37091323e-03, 9.92629087e-01],\n",
       "       [6.84782776e-01, 3.15217224e-01],\n",
       "       [9.99206565e-01, 7.93434539e-04],\n",
       "       [9.94626772e-01, 5.37322781e-03],\n",
       "       [5.08954786e-03, 9.94910452e-01],\n",
       "       [2.86122032e-03, 9.97138780e-01],\n",
       "       [1.28918119e-05, 9.99987108e-01],\n",
       "       [6.52965115e-01, 3.47034885e-01],\n",
       "       [9.20408861e-01, 7.95911392e-02],\n",
       "       [7.21333281e-03, 9.92786667e-01],\n",
       "       [3.69280717e-02, 9.63071928e-01],\n",
       "       [9.50408169e-06, 9.99990496e-01],\n",
       "       [6.55626724e-01, 3.44373276e-01],\n",
       "       [9.03948155e-01, 9.60518455e-02],\n",
       "       [7.41517740e-01, 2.58482260e-01],\n",
       "       [4.00660707e-02, 9.59933929e-01],\n",
       "       [1.43381227e-06, 9.99998566e-01],\n",
       "       [1.69627791e-02, 9.83037221e-01],\n",
       "       [2.37678899e-06, 9.99997623e-01],\n",
       "       [6.19511152e-01, 3.80488848e-01],\n",
       "       [8.97346794e-01, 1.02653206e-01],\n",
       "       [2.11448918e-02, 9.78855108e-01],\n",
       "       [1.01382479e-05, 9.99989862e-01],\n",
       "       [8.89871011e-02, 9.11012899e-01],\n",
       "       [9.71701937e-01, 2.82980629e-02],\n",
       "       [3.48878370e-01, 6.51121630e-01],\n",
       "       [9.76507485e-01, 2.34925149e-02],\n",
       "       [6.48326935e-01, 3.51673065e-01],\n",
       "       [3.46615046e-02, 9.65338495e-01],\n",
       "       [8.70534817e-01, 1.29465183e-01],\n",
       "       [3.49750945e-02, 9.65024906e-01],\n",
       "       [3.49936763e-01, 6.50063237e-01],\n",
       "       [6.77171226e-02, 9.32282877e-01],\n",
       "       [2.66138807e-01, 7.33861193e-01],\n",
       "       [8.45625565e-01, 1.54374435e-01],\n",
       "       [5.97856607e-01, 4.02143393e-01],\n",
       "       [9.25119410e-01, 7.48805904e-02],\n",
       "       [9.51184264e-01, 4.88157355e-02],\n",
       "       [6.27969964e-01, 3.72030036e-01],\n",
       "       [6.19040013e-01, 3.80959987e-01],\n",
       "       [9.86714892e-01, 1.32851081e-02],\n",
       "       [1.32682119e-01, 8.67317881e-01],\n",
       "       [8.64299858e-01, 1.35700142e-01],\n",
       "       [4.75720144e-02, 9.52427986e-01],\n",
       "       [8.50901014e-01, 1.49098986e-01],\n",
       "       [1.52755816e-06, 9.99998472e-01],\n",
       "       [7.11117992e-01, 2.88882008e-01],\n",
       "       [8.16874094e-07, 9.99999183e-01],\n",
       "       [3.09174620e-01, 6.90825380e-01],\n",
       "       [2.27279824e-02, 9.77272018e-01],\n",
       "       [9.92526462e-01, 7.47353824e-03],\n",
       "       [1.79126921e-01, 8.20873079e-01]])"
      ]
     },
     "execution_count": 107,
     "metadata": {},
     "output_type": "execute_result"
    }
   ],
   "source": [
    "y_pred_proba = svm_model_grid.predict_proba(X_test)\n",
    "y_pred_proba"
   ]
  },
  {
   "cell_type": "code",
   "execution_count": 108,
   "id": "8741a775",
   "metadata": {},
   "outputs": [
    {
     "data": {
      "image/png": "[encoded data removed]",
      "text/plain": [
       "<Figure size 576x396 with 1 Axes>"
      ]
     },
     "metadata": {},
     "output_type": "display_data"
    }
   ],
   "source": [
    "from sklearn.metrics import plot_roc_curve, plot_precision_recall_curve, roc_auc_score, auc, roc_curve, average_precision_score, precision_recall_curve\n",
    "plot_roc_curve(svm_model_grid, X_test, y_test);"
   ]
  },
  {
   "cell_type": "code",
   "execution_count": 112,
   "id": "ce969e1d",
   "metadata": {},
   "outputs": [
    {
     "data": {
      "text/plain": [
       "0.917776225946617"
      ]
     },
     "execution_count": 112,
     "metadata": {},
     "output_type": "execute_result"
    }
   ],
   "source": [
    "y_pred_proba = svm_model_grid.predict_proba(X_train)\n",
    "roc_auc_score(y_train, y_pred_proba[:,1])"
   ]
  },
  {
   "cell_type": "code",
   "execution_count": 113,
   "id": "c7294dfa",
   "metadata": {},
   "outputs": [
    {
     "data": {
      "text/plain": [
       "0.6084766088326421"
      ]
     },
     "execution_count": 113,
     "metadata": {},
     "output_type": "execute_result"
    }
   ],
   "source": [
    "fp_rate, tp_rate, thresholds = roc_curve(y_train, y_pred_proba[:,1])\n",
    "\n",
    "optimal_idx = np.argmax(tp_rate - fp_rate)\n",
    "\n",
    "optimal_threshold = thresholds[optimal_idx]\n",
    "optimal_threshold"
   ]
  },
  {
   "cell_type": "code",
   "execution_count": 114,
   "id": "d167460a",
   "metadata": {},
   "outputs": [
    {
     "name": "stdout",
     "output_type": "stream",
     "text": [
      "[[82  8]\n",
      " [18 72]]\n",
      "              precision    recall  f1-score   support\n",
      "\n",
      "           0       0.82      0.91      0.86        90\n",
      "           1       0.90      0.80      0.85        90\n",
      "\n",
      "    accuracy                           0.86       180\n",
      "   macro avg       0.86      0.86      0.86       180\n",
      "weighted avg       0.86      0.86      0.86       180\n",
      "\n"
     ]
    }
   ],
   "source": [
    "y_pred2 = pd.Series(svm_model_grid.predict_proba(X_test)[:,1]).apply(lambda x : 1 if x >= optimal_threshold else 0)\n",
    "print(confusion_matrix(y_test,y_pred2))\n",
    "print(classification_report(y_test,y_pred2))"
   ]
  },
  {
   "cell_type": "markdown",
   "id": "869915c6",
   "metadata": {},
   "source": [
    "## Decision Trees"
   ]
  },
  {
   "cell_type": "code",
   "execution_count": 137,
   "id": "96d4087f",
   "metadata": {},
   "outputs": [
    {
     "name": "stdout",
     "output_type": "stream",
     "text": [
      "Test_Set\n",
      "[[74 16]\n",
      " [16 74]]\n",
      "              precision    recall  f1-score   support\n",
      "\n",
      "           0       0.82      0.82      0.82        90\n",
      "           1       0.82      0.82      0.82        90\n",
      "\n",
      "    accuracy                           0.82       180\n",
      "   macro avg       0.82      0.82      0.82       180\n",
      "weighted avg       0.82      0.82      0.82       180\n",
      "\n",
      "\n",
      "Train_Set\n",
      "[[358   0]\n",
      " [  0 360]]\n",
      "              precision    recall  f1-score   support\n",
      "\n",
      "           0       1.00      1.00      1.00       358\n",
      "           1       1.00      1.00      1.00       360\n",
      "\n",
      "    accuracy                           1.00       718\n",
      "   macro avg       1.00      1.00      1.00       718\n",
      "weighted avg       1.00      1.00      1.00       718\n",
      "\n"
     ]
    }
   ],
   "source": [
    "from sklearn.pipeline import Pipeline\n",
    "from sklearn.tree import DecisionTreeClassifier, DecisionTreeRegressor\n",
    "\n",
    "model_dt = DecisionTreeClassifier(random_state=42)\n",
    "\n",
    "model_dt.fit(X_train, y_train)\n",
    "\n",
    "eval_metric(model_dt, X_train, y_train, X_test, y_test)"
   ]
  },
  {
   "cell_type": "code",
   "execution_count": null,
   "id": "47e8c570",
   "metadata": {},
   "outputs": [],
   "source": []
  },
  {
   "cell_type": "markdown",
   "id": "653c7ea4",
   "metadata": {},
   "source": [
    "### Cross Validation"
   ]
  },
  {
   "cell_type": "code",
   "execution_count": 138,
   "id": "1ab2a247",
   "metadata": {},
   "outputs": [
    {
     "data": {
      "text/plain": [
       "test_accuracy     0.798142\n",
       "test_precision    0.802080\n",
       "test_recall       0.800000\n",
       "test_f1           0.798812\n",
       "dtype: float64"
      ]
     },
     "execution_count": 138,
     "metadata": {},
     "output_type": "execute_result"
    }
   ],
   "source": [
    "scores = cross_validate(model_dt, X_train, y_train, scoring = ['accuracy', 'precision','recall','f1'], cv = 10)\n",
    "df_scores = pd.DataFrame(scores, index = range(1, 11))\n",
    "df_scores.mean()[2:]"
   ]
  },
  {
   "cell_type": "markdown",
   "id": "9bcd8e06",
   "metadata": {},
   "source": [
    "### Dropping Most Important Feature "
   ]
  },
  {
   "cell_type": "code",
   "execution_count": 144,
   "id": "b30a359f",
   "metadata": {},
   "outputs": [
    {
     "data": {
      "text/plain": [
       "array([0.04994197, 0.59481673, 0.02294459, 0.09349911, 0.0927647 ,\n",
       "       0.07901922, 0.06701367])"
      ]
     },
     "execution_count": 144,
     "metadata": {},
     "output_type": "execute_result"
    }
   ],
   "source": [
    "model_dt.feature_importances_"
   ]
  },
  {
   "cell_type": "code",
   "execution_count": 134,
   "id": "5772959e",
   "metadata": {},
   "outputs": [
    {
     "data": {
      "text/plain": [
       "Index(['Area', 'MajorAxisLength', 'MinorAxisLength', 'Eccentricity',\n",
       "       'ConvexArea', 'Extent', 'Perimeter'],\n",
       "      dtype='object')"
      ]
     },
     "execution_count": 134,
     "metadata": {},
     "output_type": "execute_result"
    }
   ],
   "source": [
    "X_train.columns"
   ]
  },
  {
   "cell_type": "code",
   "execution_count": 145,
   "id": "e51a4e16",
   "metadata": {},
   "outputs": [
    {
     "data": {
      "text/html": [
       "<div>\n",
       "<style scoped>\n",
       "    .dataframe tbody tr th:only-of-type {\n",
       "        vertical-align: middle;\n",
       "    }\n",
       "\n",
       "    .dataframe tbody tr th {\n",
       "        vertical-align: top;\n",
       "    }\n",
       "\n",
       "    .dataframe thead th {\n",
       "        text-align: right;\n",
       "    }\n",
       "</style>\n",
       "<table border=\"1\" class=\"dataframe\">\n",
       "  <thead>\n",
       "    <tr style=\"text-align: right;\">\n",
       "      <th></th>\n",
       "      <th>Feature_Importance</th>\n",
       "    </tr>\n",
       "  </thead>\n",
       "  <tbody>\n",
       "    <tr>\n",
       "      <th>MajorAxisLength</th>\n",
       "      <td>0.594817</td>\n",
       "    </tr>\n",
       "    <tr>\n",
       "      <th>Eccentricity</th>\n",
       "      <td>0.093499</td>\n",
       "    </tr>\n",
       "    <tr>\n",
       "      <th>ConvexArea</th>\n",
       "      <td>0.092765</td>\n",
       "    </tr>\n",
       "    <tr>\n",
       "      <th>Extent</th>\n",
       "      <td>0.079019</td>\n",
       "    </tr>\n",
       "    <tr>\n",
       "      <th>Perimeter</th>\n",
       "      <td>0.067014</td>\n",
       "    </tr>\n",
       "    <tr>\n",
       "      <th>Area</th>\n",
       "      <td>0.049942</td>\n",
       "    </tr>\n",
       "    <tr>\n",
       "      <th>MinorAxisLength</th>\n",
       "      <td>0.022945</td>\n",
       "    </tr>\n",
       "  </tbody>\n",
       "</table>\n",
       "</div>"
      ],
      "text/plain": [
       "                 Feature_Importance\n",
       "MajorAxisLength            0.594817\n",
       "Eccentricity               0.093499\n",
       "ConvexArea                 0.092765\n",
       "Extent                     0.079019\n",
       "Perimeter                  0.067014\n",
       "Area                       0.049942\n",
       "MinorAxisLength            0.022945"
      ]
     },
     "execution_count": 145,
     "metadata": {},
     "output_type": "execute_result"
    }
   ],
   "source": [
    "df_feature = pd.DataFrame(model_dt.feature_importances_, index=X_train.columns, \n",
    "                          columns=[\"Feature_Importance\"]).sort_values(\"Feature_Importance\", ascending=False)\n",
    "df_feature"
   ]
  },
  {
   "cell_type": "code",
   "execution_count": 146,
   "id": "e50160ef",
   "metadata": {},
   "outputs": [
    {
     "data": {
      "image/png": "[encoded data removed]",
      "text/plain": [
       "<Figure size 576x396 with 1 Axes>"
      ]
     },
     "metadata": {},
     "output_type": "display_data"
    }
   ],
   "source": [
    "ax = sns.barplot(x = df_feature.index, y = 'Feature_Importance', data = df_feature)\n",
    "ax.bar_label(ax.containers[0],fmt=\"%.3f\");\n",
    "plt.xticks(rotation = 90)\n",
    "plt.tight_layout()"
   ]
  },
  {
   "cell_type": "code",
   "execution_count": 141,
   "id": "2bb3df44",
   "metadata": {},
   "outputs": [
    {
     "name": "stdout",
     "output_type": "stream",
     "text": [
      "Test_Set\n",
      "[[81 15]\n",
      " [12 72]]\n",
      "              precision    recall  f1-score   support\n",
      "\n",
      "           0       0.87      0.84      0.86        96\n",
      "           1       0.83      0.86      0.84        84\n",
      "\n",
      "    accuracy                           0.85       180\n",
      "   macro avg       0.85      0.85      0.85       180\n",
      "weighted avg       0.85      0.85      0.85       180\n",
      "\n",
      "\n",
      "Train_Set\n",
      "[[352   0]\n",
      " [  0 366]]\n",
      "              precision    recall  f1-score   support\n",
      "\n",
      "           0       1.00      1.00      1.00       352\n",
      "           1       1.00      1.00      1.00       366\n",
      "\n",
      "    accuracy                           1.00       718\n",
      "   macro avg       1.00      1.00      1.00       718\n",
      "weighted avg       1.00      1.00      1.00       718\n",
      "\n"
     ]
    }
   ],
   "source": [
    "X2 = X.drop(columns = [\"MajorAxisLength\"]) \n",
    "X_train2, X_test2, y_train2, y_test2 = train_test_split(X2, y, test_size=0.2, random_state=10)\n",
    "\n",
    "model_dt2 = DecisionTreeClassifier(random_state=42)\n",
    "\n",
    "model_dt2.fit(X_train2, y_train2)\n",
    "\n",
    "eval_metric(model_dt2, X_train2, y_train2, X_test2, y_test2)"
   ]
  },
  {
   "cell_type": "code",
   "execution_count": 142,
   "id": "b59afdd8",
   "metadata": {},
   "outputs": [
    {
     "data": {
      "text/plain": [
       "test_accuracy     0.828599\n",
       "test_precision    0.850001\n",
       "test_recall       0.817117\n",
       "test_f1           0.828647\n",
       "dtype: float64"
      ]
     },
     "execution_count": 142,
     "metadata": {},
     "output_type": "execute_result"
    }
   ],
   "source": [
    "scores = cross_validate(model_dt2, X_train2, y_train2, scoring = ['accuracy', 'precision','recall','f1'], cv = 10)\n",
    "df_scores = pd.DataFrame(scores, index = range(1, 11))\n",
    "df_scores.mean()[2:]"
   ]
  },
  {
   "cell_type": "code",
   "execution_count": 147,
   "id": "5d0326dd",
   "metadata": {},
   "outputs": [
    {
     "data": {
      "text/plain": [
       "array([0.065728  , 0.04495933, 0.09350152, 0.04600592, 0.09096853,\n",
       "       0.6588367 ])"
      ]
     },
     "execution_count": 147,
     "metadata": {},
     "output_type": "execute_result"
    }
   ],
   "source": [
    "model_dt2.feature_importances_"
   ]
  },
  {
   "cell_type": "markdown",
   "id": "52b75e27",
   "metadata": {},
   "source": [
    "### Grid Search"
   ]
  },
  {
   "cell_type": "code",
   "execution_count": 153,
   "id": "aebd85c0",
   "metadata": {},
   "outputs": [
    {
     "data": {
      "text/plain": [
       "{'ccp_alpha': 0.0,\n",
       " 'class_weight': None,\n",
       " 'criterion': 'gini',\n",
       " 'max_depth': None,\n",
       " 'max_features': None,\n",
       " 'max_leaf_nodes': None,\n",
       " 'min_impurity_decrease': 0.0,\n",
       " 'min_samples_leaf': 1,\n",
       " 'min_samples_split': 2,\n",
       " 'min_weight_fraction_leaf': 0.0,\n",
       " 'random_state': None,\n",
       " 'splitter': 'best'}"
      ]
     },
     "execution_count": 153,
     "metadata": {},
     "output_type": "execute_result"
    }
   ],
   "source": [
    "DecisionTreeClassifier().get_params()"
   ]
  },
  {
   "cell_type": "code",
   "execution_count": 154,
   "id": "8536c07c",
   "metadata": {},
   "outputs": [],
   "source": [
    "params = {\"criterion\" : [\"gini\", \"entropy\"],\n",
    "         \"splitter\" : [\"best\", \"random\"],\n",
    "          \"max_features\":[None, \"auto\", \"log2\", 2, 3,4, 5],\n",
    "        \"max_depth\": [None, 2, 3, 4, 5],\n",
    "        \"min_samples_leaf\": [1, 2, 3, 4],\n",
    "        \"min_samples_split\": [ 3, 5, 6, 7,8]}"
   ]
  },
  {
   "cell_type": "code",
   "execution_count": 155,
   "id": "612357e8",
   "metadata": {},
   "outputs": [
    {
     "data": {
      "text/plain": [
       "{'logistic__C': 6.0,\n",
       " 'logistic__class_weight': 'balanced',\n",
       " 'logistic__l1_ratio': 0.1,\n",
       " 'logistic__max_iter': 1000,\n",
       " 'logistic__n_jobs': -1,\n",
       " 'logistic__penalty': 'l1',\n",
       " 'logistic__solver': 'saga'}"
      ]
     },
     "execution_count": 155,
     "metadata": {},
     "output_type": "execute_result"
    }
   ],
   "source": [
    "grid_dt = GridSearchCV(DecisionTreeClassifier(), param_grid=params, scoring=\"f1\", cv=10, n_jobs=-1)\n",
    "\n",
    "grid_dt.fit(X_train2, y_train2)\n",
    "\n"
   ]
  },
  {
   "cell_type": "code",
   "execution_count": 158,
   "id": "8fee3899",
   "metadata": {},
   "outputs": [
    {
     "data": {
      "text/plain": [
       "{'criterion': 'gini',\n",
       " 'max_depth': 2,\n",
       " 'max_features': None,\n",
       " 'min_samples_leaf': 1,\n",
       " 'min_samples_split': 3,\n",
       " 'splitter': 'best'}"
      ]
     },
     "execution_count": 158,
     "metadata": {},
     "output_type": "execute_result"
    }
   ],
   "source": [
    "grid_dt.best_params_"
   ]
  },
  {
   "cell_type": "code",
   "execution_count": 157,
   "id": "d19b8100",
   "metadata": {},
   "outputs": [
    {
     "name": "stdout",
     "output_type": "stream",
     "text": [
      "Test_Set\n",
      "[[82 14]\n",
      " [ 9 75]]\n",
      "              precision    recall  f1-score   support\n",
      "\n",
      "           0       0.90      0.85      0.88        96\n",
      "           1       0.84      0.89      0.87        84\n",
      "\n",
      "    accuracy                           0.87       180\n",
      "   macro avg       0.87      0.87      0.87       180\n",
      "weighted avg       0.87      0.87      0.87       180\n",
      "\n",
      "\n",
      "Train_Set\n",
      "[[307  45]\n",
      " [ 46 320]]\n",
      "              precision    recall  f1-score   support\n",
      "\n",
      "           0       0.87      0.87      0.87       352\n",
      "           1       0.88      0.87      0.88       366\n",
      "\n",
      "    accuracy                           0.87       718\n",
      "   macro avg       0.87      0.87      0.87       718\n",
      "weighted avg       0.87      0.87      0.87       718\n",
      "\n"
     ]
    }
   ],
   "source": [
    "eval_metric(grid_dt, X_train2, y_train2, X_test2, y_test2)"
   ]
  },
  {
   "cell_type": "code",
   "execution_count": 162,
   "id": "c6eaded8",
   "metadata": {},
   "outputs": [
    {
     "data": {
      "text/plain": [
       "DecisionTreeClassifier(max_depth=2, min_samples_split=3)"
      ]
     },
     "execution_count": 162,
     "metadata": {},
     "output_type": "execute_result"
    }
   ],
   "source": [
    "model_dt3 = DecisionTreeClassifier(criterion= 'gini', max_depth = 2, max_features=None,\n",
    "                                   min_samples_leaf=1, min_samples_split=3, splitter=\"best\")\n",
    "model_dt3.fit(X_train2, y_train2)"
   ]
  },
  {
   "cell_type": "code",
   "execution_count": 163,
   "id": "428d72ff",
   "metadata": {},
   "outputs": [
    {
     "data": {
      "image/png": "[encoded data removed]",
      "text/plain": [
       "<Figure size 900x600 with 1 Axes>"
      ]
     },
     "metadata": {},
     "output_type": "display_data"
    }
   ],
   "source": [
    "from sklearn.tree import plot_tree\n",
    "\n",
    "plt.figure(figsize=(12,8), dpi=75)\n",
    "plot_tree(model_dt3, fontsize=10);"
   ]
  },
  {
   "cell_type": "code",
   "execution_count": 164,
   "id": "99be0cac",
   "metadata": {},
   "outputs": [
    {
     "data": {
      "image/png": "[encoded data removed]",
      "text/plain": [
       "<Figure size 576x396 with 1 Axes>"
      ]
     },
     "metadata": {},
     "output_type": "display_data"
    }
   ],
   "source": [
    "from sklearn.metrics import plot_roc_curve, plot_precision_recall_curve, roc_auc_score, auc, roc_curve, average_precision_score, precision_recall_curve\n",
    "plot_roc_curve(model_dt3, X_test2, y_test2);"
   ]
  },
  {
   "cell_type": "markdown",
   "id": "8373bd76",
   "metadata": {
    "id": "8373bd76"
   },
   "source": [
    "# Conclusion \n",
    "* Write a short summary of your findings, and decide which model you will use and why."
   ]
  },
  {
   "cell_type": "markdown",
   "id": "e2d46533",
   "metadata": {
    "id": "b82575fa"
   },
   "source": [
    "Logistic Regression = Accuracy - 0.89 , F1 - 0.89 , AUC - 0.96 (Grid-Search)\n",
    "                    \n",
    "KNN = Accuracy - 0.86 , F1 - 0.86, AUC - 0.94 (Grid-Search)\n",
    "    \n",
    "SVM = Accuracy - 0.87 , F1 - 0.86, AUC - 0.92 (Grid-Search)\n",
    "\n",
    "DecisionTree = 0.87 , F1 - 0.87, AUC - 0.90 (Grid-Search)\n",
    "\n",
    "All of them is near to each other. So we choose logistic regression"
   ]
  },
  {
   "cell_type": "code",
   "execution_count": null,
   "id": "6ee9f9fd",
   "metadata": {},
   "outputs": [],
   "source": []
  },
  {
   "cell_type": "code",
   "execution_count": null,
   "id": "07dfa222",
   "metadata": {},
   "outputs": [],
   "source": []
  },
  {
   "cell_type": "code",
   "execution_count": null,
   "id": "7ef8146e",
   "metadata": {},
   "outputs": [],
   "source": []
  },
  {
   "cell_type": "code",
   "execution_count": null,
   "id": "235f8dc7",
   "metadata": {},
   "outputs": [],
   "source": []
  },
  {
   "cell_type": "code",
   "execution_count": null,
   "id": "6e95fdbe",
   "metadata": {},
   "outputs": [],
   "source": []
  },
  {
   "cell_type": "code",
   "execution_count": null,
   "id": "d0c667a4",
   "metadata": {},
   "outputs": [],
   "source": []
  },
  {
   "cell_type": "code",
   "execution_count": null,
   "id": "86f4cab3",
   "metadata": {},
   "outputs": [],
   "source": []
  },
  {
   "cell_type": "code",
   "execution_count": null,
   "id": "8f69628e",
   "metadata": {},
   "outputs": [],
   "source": []
  },
  {
   "cell_type": "code",
   "execution_count": null,
   "id": "72418508",
   "metadata": {},
   "outputs": [],
   "source": []
  },
  {
   "cell_type": "markdown",
   "id": "P_PfXh7nHgj9",
   "metadata": {
    "id": "P_PfXh7nHgj9"
   },
   "source": [
    "___\n",
    "\n",
    "<p style=\"text-align: center;\"><img src=\"https://docs.google.com/uc?id=1lY0Uj5R04yMY3-ZppPWxqCr5pvBLYPnV\" class=\"img-fluid\" alt=\"CLRSWY\"></p>\n",
    "\n",
    "___"
   ]
  }
 ],
 "metadata": {
  "colab": {
   "collapsed_sections": [],
   "name": "Raisin_Class_Prediction_blank.ipynb",
   "provenance": []
  },
  "hide_input": false,
  "interpreter": {
   "hash": "b91502e98c93ec413571a3c4a71c4e7e2f090119475bdef759aa0802c5125d05"
  },
  "kernelspec": {
   "display_name": "Python 3 (ipykernel)",
   "language": "python",
   "name": "python3"
  },
  "language_info": {
   "codemirror_mode": {
    "name": "ipython",
    "version": 3
   },
   "file_extension": ".py",
   "mimetype": "text/x-python",
   "name": "python",
   "nbconvert_exporter": "python",
   "pygments_lexer": "ipython3",
   "version": "3.8.12"
  },
  "toc": {
   "base_numbering": 1,
   "nav_menu": {},
   "number_sections": true,
   "sideBar": true,
   "skip_h1_title": false,
   "title_cell": "Table of Contents",
   "title_sidebar": "Contents",
   "toc_cell": false,
   "toc_position": {
    "height": "calc(100% - 180px)",
    "left": "10px",
    "top": "150px",
    "width": "384px"
   },
   "toc_section_display": true,
   "toc_window_display": true
  },
  "varInspector": {
   "cols": {
    "lenName": 16,
    "lenType": 16,
    "lenVar": 40
   },
   "kernels_config": {
    "python": {
     "delete_cmd_postfix": "",
     "delete_cmd_prefix": "del ",
     "library": "var_list.py",
     "varRefreshCmd": "print(var_dic_list())"
    },
    "r": {
     "delete_cmd_postfix": ") ",
     "delete_cmd_prefix": "rm(",
     "library": "var_list.r",
     "varRefreshCmd": "cat(var_dic_list()) "
    }
   },
   "types_to_exclude": [
    "module",
    "function",
    "builtin_function_or_method",
    "instance",
    "_Feature"
   ],
   "window_display": false
  }
 },
 "nbformat": 4,
 "nbformat_minor": 5
}
